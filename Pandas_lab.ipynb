{
  "metadata": {
    "kernelspec": {
      "name": "python",
      "display_name": "Pyolite",
      "language": "python"
    },
    "language_info": {
      "codemirror_mode": {
        "name": "python",
        "version": 3
      },
      "file_extension": ".py",
      "mimetype": "text/x-python",
      "name": "python",
      "nbconvert_exporter": "python",
      "pygments_lexer": "ipython3",
      "version": "3.8"
    },
    "toc-autonumbering": true,
    "toc-showcode": true,
    "toc-showmarkdowntxt": false,
    "toc-showtags": false,
    "varInspector": {
      "cols": {
        "lenName": 16,
        "lenType": 16,
        "lenVar": 40
      },
      "kernels_config": {
        "python": {
          "delete_cmd_postfix": "",
          "delete_cmd_prefix": "del ",
          "library": "var_list.py",
          "varRefreshCmd": "print(var_dic_list())"
        },
        "r": {
          "delete_cmd_postfix": ") ",
          "delete_cmd_prefix": "rm(",
          "library": "var_list.r",
          "varRefreshCmd": "cat(var_dic_list()) "
        }
      },
      "types_to_exclude": [
        "module",
        "function",
        "builtin_function_or_method",
        "instance",
        "_Feature"
      ],
      "window_display": false
    }
  },
  "nbformat_minor": 5,
  "nbformat": 4,
  "cells": [
    {
      "cell_type": "markdown",
      "source": "#  Лабораторна робота \"Обробка табличних даних засобами бібліотеки Pandas\"\n\n__Метою__ лабораторної роботи є вивчення технологій первинного аналізу даних в середовищі бібліотеки Pandas, а саме здобуття навичок:\n- працювати з даними використовуючи мову Python та пакет Pandas\n- робити передобробку даних\n- знаходити прості закономірності у даних",
      "metadata": {},
      "id": "careful-recognition"
    },
    {
      "cell_type": "code",
      "source": "# підключити бібліотеки Pandas та NumPy\nimport pandas as pd\nimport numpy as np",
      "metadata": {
        "trusted": true
      },
      "execution_count": 1,
      "outputs": [],
      "id": "previous-wrong"
    },
    {
      "cell_type": "markdown",
      "source": "## 1. Створення  DataFrame\n\n__DataFrame__ — це двовимірна неоднорідна таблична структура даних із змінюваними розмірами з іменованими вісями (рядками та стовпцями)",
      "metadata": {
        "heading_collapsed": true
      },
      "id": "found-proposition"
    },
    {
      "cell_type": "markdown",
      "source": "### ПРИКЛАДИ",
      "metadata": {
        "heading_collapsed": true,
        "hidden": true
      },
      "id": "martial-bristol"
    },
    {
      "cell_type": "code",
      "source": "# створити DataFrame з 1 колонкою з python-списка\ndf = pd.DataFrame([\"Петя\", \"Вася\", \"Микола\"])\nprint(df)\nprint(type(df))",
      "metadata": {
        "hidden": true,
        "trusted": true
      },
      "execution_count": 2,
      "outputs": [
        {
          "name": "stdout",
          "text": "        0\n0    Петя\n1    Вася\n2  Микола\n<class 'pandas.core.frame.DataFrame'>\n",
          "output_type": "stream"
        }
      ],
      "id": "interesting-mixer"
    },
    {
      "cell_type": "code",
      "source": "# створити DataFrame з np-матриці розміром 10х10 випадкових чисел\nmat = np.random.randint(100, 500, (10,10), dtype=\"int16\")\nprint(mat)\ndf = pd.DataFrame(mat)\ndf",
      "metadata": {
        "hidden": true,
        "trusted": true
      },
      "execution_count": 3,
      "outputs": [
        {
          "name": "stdout",
          "text": "[[204 223 463 342 241 486 215 368 277 378]\n [391 364 284 291 226 193 117 126 161 196]\n [189 260 458 483 317 339 396 408 390 434]\n [461 298 298 151 134 257 336 380 268 292]\n [344 357 137 255 336 208 197 146 171 343]\n [186 417 159 452 210 123 423 244 364 116]\n [149 269 273 186 396 429 383 344 368 386]\n [402 263 200 421 161 327 453 329 387 143]\n [279 306 219 162 388 256 204 305 218 341]\n [128 238 180 132 249 372 326 394 324 375]]\n",
          "output_type": "stream"
        },
        {
          "execution_count": 3,
          "output_type": "execute_result",
          "data": {
            "text/plain": "     0    1    2    3    4    5    6    7    8    9\n0  204  223  463  342  241  486  215  368  277  378\n1  391  364  284  291  226  193  117  126  161  196\n2  189  260  458  483  317  339  396  408  390  434\n3  461  298  298  151  134  257  336  380  268  292\n4  344  357  137  255  336  208  197  146  171  343\n5  186  417  159  452  210  123  423  244  364  116\n6  149  269  273  186  396  429  383  344  368  386\n7  402  263  200  421  161  327  453  329  387  143\n8  279  306  219  162  388  256  204  305  218  341\n9  128  238  180  132  249  372  326  394  324  375",
            "text/html": "<div>\n<style scoped>\n    .dataframe tbody tr th:only-of-type {\n        vertical-align: middle;\n    }\n\n    .dataframe tbody tr th {\n        vertical-align: top;\n    }\n\n    .dataframe thead th {\n        text-align: right;\n    }\n</style>\n<table border=\"1\" class=\"dataframe\">\n  <thead>\n    <tr style=\"text-align: right;\">\n      <th></th>\n      <th>0</th>\n      <th>1</th>\n      <th>2</th>\n      <th>3</th>\n      <th>4</th>\n      <th>5</th>\n      <th>6</th>\n      <th>7</th>\n      <th>8</th>\n      <th>9</th>\n    </tr>\n  </thead>\n  <tbody>\n    <tr>\n      <th>0</th>\n      <td>204</td>\n      <td>223</td>\n      <td>463</td>\n      <td>342</td>\n      <td>241</td>\n      <td>486</td>\n      <td>215</td>\n      <td>368</td>\n      <td>277</td>\n      <td>378</td>\n    </tr>\n    <tr>\n      <th>1</th>\n      <td>391</td>\n      <td>364</td>\n      <td>284</td>\n      <td>291</td>\n      <td>226</td>\n      <td>193</td>\n      <td>117</td>\n      <td>126</td>\n      <td>161</td>\n      <td>196</td>\n    </tr>\n    <tr>\n      <th>2</th>\n      <td>189</td>\n      <td>260</td>\n      <td>458</td>\n      <td>483</td>\n      <td>317</td>\n      <td>339</td>\n      <td>396</td>\n      <td>408</td>\n      <td>390</td>\n      <td>434</td>\n    </tr>\n    <tr>\n      <th>3</th>\n      <td>461</td>\n      <td>298</td>\n      <td>298</td>\n      <td>151</td>\n      <td>134</td>\n      <td>257</td>\n      <td>336</td>\n      <td>380</td>\n      <td>268</td>\n      <td>292</td>\n    </tr>\n    <tr>\n      <th>4</th>\n      <td>344</td>\n      <td>357</td>\n      <td>137</td>\n      <td>255</td>\n      <td>336</td>\n      <td>208</td>\n      <td>197</td>\n      <td>146</td>\n      <td>171</td>\n      <td>343</td>\n    </tr>\n    <tr>\n      <th>5</th>\n      <td>186</td>\n      <td>417</td>\n      <td>159</td>\n      <td>452</td>\n      <td>210</td>\n      <td>123</td>\n      <td>423</td>\n      <td>244</td>\n      <td>364</td>\n      <td>116</td>\n    </tr>\n    <tr>\n      <th>6</th>\n      <td>149</td>\n      <td>269</td>\n      <td>273</td>\n      <td>186</td>\n      <td>396</td>\n      <td>429</td>\n      <td>383</td>\n      <td>344</td>\n      <td>368</td>\n      <td>386</td>\n    </tr>\n    <tr>\n      <th>7</th>\n      <td>402</td>\n      <td>263</td>\n      <td>200</td>\n      <td>421</td>\n      <td>161</td>\n      <td>327</td>\n      <td>453</td>\n      <td>329</td>\n      <td>387</td>\n      <td>143</td>\n    </tr>\n    <tr>\n      <th>8</th>\n      <td>279</td>\n      <td>306</td>\n      <td>219</td>\n      <td>162</td>\n      <td>388</td>\n      <td>256</td>\n      <td>204</td>\n      <td>305</td>\n      <td>218</td>\n      <td>341</td>\n    </tr>\n    <tr>\n      <th>9</th>\n      <td>128</td>\n      <td>238</td>\n      <td>180</td>\n      <td>132</td>\n      <td>249</td>\n      <td>372</td>\n      <td>326</td>\n      <td>394</td>\n      <td>324</td>\n      <td>375</td>\n    </tr>\n  </tbody>\n</table>\n</div>"
          },
          "metadata": {}
        }
      ],
      "id": "exact-organic"
    },
    {
      "cell_type": "code",
      "source": "# створити DataFrame з 2-мірного випадкового масиву з іменованими колонками\narr = np.random.random((5,3))\nprint(arr)\ndf = pd.DataFrame(arr, columns=[\"колонка 1\", \"колонка 2\", \"колонка 3\"])\ndf",
      "metadata": {
        "hidden": true,
        "trusted": true
      },
      "execution_count": 4,
      "outputs": [
        {
          "name": "stdout",
          "text": "[[0.41683399 0.13917494 0.76948558]\n [0.63518377 0.6135846  0.3099559 ]\n [0.34482873 0.06383885 0.58437408]\n [0.96060921 0.35020087 0.9456875 ]\n [0.76688758 0.91951792 0.03138117]]\n",
          "output_type": "stream"
        },
        {
          "execution_count": 4,
          "output_type": "execute_result",
          "data": {
            "text/plain": "   колонка 1  колонка 2  колонка 3\n0   0.416834   0.139175   0.769486\n1   0.635184   0.613585   0.309956\n2   0.344829   0.063839   0.584374\n3   0.960609   0.350201   0.945687\n4   0.766888   0.919518   0.031381",
            "text/html": "<div>\n<style scoped>\n    .dataframe tbody tr th:only-of-type {\n        vertical-align: middle;\n    }\n\n    .dataframe tbody tr th {\n        vertical-align: top;\n    }\n\n    .dataframe thead th {\n        text-align: right;\n    }\n</style>\n<table border=\"1\" class=\"dataframe\">\n  <thead>\n    <tr style=\"text-align: right;\">\n      <th></th>\n      <th>колонка 1</th>\n      <th>колонка 2</th>\n      <th>колонка 3</th>\n    </tr>\n  </thead>\n  <tbody>\n    <tr>\n      <th>0</th>\n      <td>0.416834</td>\n      <td>0.139175</td>\n      <td>0.769486</td>\n    </tr>\n    <tr>\n      <th>1</th>\n      <td>0.635184</td>\n      <td>0.613585</td>\n      <td>0.309956</td>\n    </tr>\n    <tr>\n      <th>2</th>\n      <td>0.344829</td>\n      <td>0.063839</td>\n      <td>0.584374</td>\n    </tr>\n    <tr>\n      <th>3</th>\n      <td>0.960609</td>\n      <td>0.350201</td>\n      <td>0.945687</td>\n    </tr>\n    <tr>\n      <th>4</th>\n      <td>0.766888</td>\n      <td>0.919518</td>\n      <td>0.031381</td>\n    </tr>\n  </tbody>\n</table>\n</div>"
          },
          "metadata": {}
        }
      ],
      "id": "satellite-pension"
    },
    {
      "cell_type": "code",
      "source": "# створити DataFrame з python-словника в якому ключ - це ім'я, а значення - \n# це масив з 5-ти випадкових чисел з модифікованими індексами рядків\nd = {\"Петя\": np.random.random(5),\n    \"Вася\" : np.random.random(5),\n    \"Микола\":np.random.random(5)\n    }\npd.DataFrame(d, index=[10,20,30,40,50])",
      "metadata": {
        "hidden": true,
        "trusted": true
      },
      "execution_count": 5,
      "outputs": [
        {
          "execution_count": 5,
          "output_type": "execute_result",
          "data": {
            "text/plain": "        Петя      Вася    Микола\n10  0.857974  0.606890  0.602383\n20  0.367546  0.101020  0.154891\n30  0.488476  0.307656  0.095100\n40  0.622589  0.648679  0.506010\n50  0.035535  0.800429  0.874668",
            "text/html": "<div>\n<style scoped>\n    .dataframe tbody tr th:only-of-type {\n        vertical-align: middle;\n    }\n\n    .dataframe tbody tr th {\n        vertical-align: top;\n    }\n\n    .dataframe thead th {\n        text-align: right;\n    }\n</style>\n<table border=\"1\" class=\"dataframe\">\n  <thead>\n    <tr style=\"text-align: right;\">\n      <th></th>\n      <th>Петя</th>\n      <th>Вася</th>\n      <th>Микола</th>\n    </tr>\n  </thead>\n  <tbody>\n    <tr>\n      <th>10</th>\n      <td>0.857974</td>\n      <td>0.606890</td>\n      <td>0.602383</td>\n    </tr>\n    <tr>\n      <th>20</th>\n      <td>0.367546</td>\n      <td>0.101020</td>\n      <td>0.154891</td>\n    </tr>\n    <tr>\n      <th>30</th>\n      <td>0.488476</td>\n      <td>0.307656</td>\n      <td>0.095100</td>\n    </tr>\n    <tr>\n      <th>40</th>\n      <td>0.622589</td>\n      <td>0.648679</td>\n      <td>0.506010</td>\n    </tr>\n    <tr>\n      <th>50</th>\n      <td>0.035535</td>\n      <td>0.800429</td>\n      <td>0.874668</td>\n    </tr>\n  </tbody>\n</table>\n</div>"
          },
          "metadata": {}
        }
      ],
      "id": "interpreted-swedish"
    },
    {
      "cell_type": "code",
      "source": "# створити dataFrame з ітеруємого об'єкта\nname = [\"Вася\", \"Петя\", \"Микола\"]\nrik = [2001, 2000, 2003]\nname_rik = list(zip(name, rik))\nprint(name_rik)\ndf = pd.DataFrame(name_rik, columns=[\"Ім'я\", \"Рік народження\"])\ndf",
      "metadata": {
        "hidden": true,
        "trusted": true
      },
      "execution_count": 6,
      "outputs": [
        {
          "name": "stdout",
          "text": "[('Вася', 2001), ('Петя', 2000), ('Микола', 2003)]\n",
          "output_type": "stream"
        },
        {
          "execution_count": 6,
          "output_type": "execute_result",
          "data": {
            "text/plain": "     Ім'я  Рік народження\n0    Вася            2001\n1    Петя            2000\n2  Микола            2003",
            "text/html": "<div>\n<style scoped>\n    .dataframe tbody tr th:only-of-type {\n        vertical-align: middle;\n    }\n\n    .dataframe tbody tr th {\n        vertical-align: top;\n    }\n\n    .dataframe thead th {\n        text-align: right;\n    }\n</style>\n<table border=\"1\" class=\"dataframe\">\n  <thead>\n    <tr style=\"text-align: right;\">\n      <th></th>\n      <th>Ім'я</th>\n      <th>Рік народження</th>\n    </tr>\n  </thead>\n  <tbody>\n    <tr>\n      <th>0</th>\n      <td>Вася</td>\n      <td>2001</td>\n    </tr>\n    <tr>\n      <th>1</th>\n      <td>Петя</td>\n      <td>2000</td>\n    </tr>\n    <tr>\n      <th>2</th>\n      <td>Микола</td>\n      <td>2003</td>\n    </tr>\n  </tbody>\n</table>\n</div>"
          },
          "metadata": {}
        }
      ],
      "id": "fallen-amber"
    },
    {
      "cell_type": "code",
      "source": "str(name_rik[0])",
      "metadata": {
        "hidden": true,
        "trusted": true
      },
      "execution_count": 7,
      "outputs": [
        {
          "execution_count": 7,
          "output_type": "execute_result",
          "data": {
            "text/plain": "\"('Вася', 2001)\""
          },
          "metadata": {}
        }
      ],
      "id": "cleared-possible"
    },
    {
      "cell_type": "code",
      "source": "!echo \"Вася, 2001\\nПетя, 2000,\\nМикола,2003\\n\" > file.csv\n!cat file.csv\n# створити DataFrame з csv-файлу\ndf = pd.read_csv(\"file.csv\", names=[\"Ім'я\", \"Рік народження\"])\ndf",
      "metadata": {
        "hidden": true,
        "scrolled": true,
        "trusted": true
      },
      "execution_count": 10,
      "outputs": [
        {
          "ename": "<class 'AttributeError'>",
          "evalue": "module 'pexpect' has no attribute 'TIMEOUT'",
          "traceback": [
            "\u001b[0;31m---------------------------------------------------------------------------\u001b[0m",
            "\u001b[0;31mAttributeError\u001b[0m                            Traceback (most recent call last)",
            "Input \u001b[0;32mIn [10]\u001b[0m, in \u001b[0;36m<cell line: 1>\u001b[0;34m()\u001b[0m\n\u001b[0;32m----> 1\u001b[0m \u001b[43mget_ipython\u001b[49m\u001b[43m(\u001b[49m\u001b[43m)\u001b[49m\u001b[38;5;241;43m.\u001b[39;49m\u001b[43msystem\u001b[49m\u001b[43m(\u001b[49m\u001b[38;5;124;43m'\u001b[39;49m\u001b[38;5;124;43mecho \u001b[39;49m\u001b[38;5;124;43m\"\u001b[39;49m\u001b[38;5;124;43mВася, 2001\u001b[39;49m\u001b[38;5;130;43;01m\\\\\u001b[39;49;00m\u001b[38;5;124;43mnПетя, 2000,\u001b[39;49m\u001b[38;5;130;43;01m\\\\\u001b[39;49;00m\u001b[38;5;124;43mnМикола,2003\u001b[39;49m\u001b[38;5;130;43;01m\\\\\u001b[39;49;00m\u001b[38;5;124;43mn\u001b[39;49m\u001b[38;5;124;43m\"\u001b[39;49m\u001b[38;5;124;43m > file.csv\u001b[39;49m\u001b[38;5;124;43m'\u001b[39;49m\u001b[43m)\u001b[49m\n\u001b[1;32m      2\u001b[0m get_ipython()\u001b[38;5;241m.\u001b[39msystem(\u001b[38;5;124m'\u001b[39m\u001b[38;5;124mcat file.csv\u001b[39m\u001b[38;5;124m'\u001b[39m)\n\u001b[1;32m      3\u001b[0m \u001b[38;5;66;03m# створити DataFrame з csv-файлу\u001b[39;00m\n",
            "File \u001b[0;32m/lib/python3.10/site-packages/IPython/core/interactiveshell.py:2451\u001b[0m, in \u001b[0;36mInteractiveShell.system_piped\u001b[0;34m(self, cmd)\u001b[0m\n\u001b[1;32m   2446\u001b[0m     \u001b[38;5;28;01mraise\u001b[39;00m \u001b[38;5;167;01mOSError\u001b[39;00m(\u001b[38;5;124m\"\u001b[39m\u001b[38;5;124mBackground processes not supported.\u001b[39m\u001b[38;5;124m\"\u001b[39m)\n\u001b[1;32m   2448\u001b[0m \u001b[38;5;66;03m# we explicitly do NOT return the subprocess status code, because\u001b[39;00m\n\u001b[1;32m   2449\u001b[0m \u001b[38;5;66;03m# a non-None value would trigger :func:`sys.displayhook` calls.\u001b[39;00m\n\u001b[1;32m   2450\u001b[0m \u001b[38;5;66;03m# Instead, we store the exit_code in user_ns.\u001b[39;00m\n\u001b[0;32m-> 2451\u001b[0m \u001b[38;5;28mself\u001b[39m\u001b[38;5;241m.\u001b[39muser_ns[\u001b[38;5;124m'\u001b[39m\u001b[38;5;124m_exit_code\u001b[39m\u001b[38;5;124m'\u001b[39m] \u001b[38;5;241m=\u001b[39m \u001b[43msystem\u001b[49m\u001b[43m(\u001b[49m\u001b[38;5;28;43mself\u001b[39;49m\u001b[38;5;241;43m.\u001b[39;49m\u001b[43mvar_expand\u001b[49m\u001b[43m(\u001b[49m\u001b[43mcmd\u001b[49m\u001b[43m,\u001b[49m\u001b[43m \u001b[49m\u001b[43mdepth\u001b[49m\u001b[38;5;241;43m=\u001b[39;49m\u001b[38;5;241;43m1\u001b[39;49m\u001b[43m)\u001b[49m\u001b[43m)\u001b[49m\n",
            "File \u001b[0;32m/lib/python3.10/site-packages/IPython/utils/_process_posix.py:129\u001b[0m, in \u001b[0;36mProcessHandler.system\u001b[0;34m(self, cmd)\u001b[0m\n\u001b[1;32m    125\u001b[0m enc \u001b[38;5;241m=\u001b[39m DEFAULT_ENCODING\n\u001b[1;32m    127\u001b[0m \u001b[38;5;66;03m# Patterns to match on the output, for pexpect.  We read input and\u001b[39;00m\n\u001b[1;32m    128\u001b[0m \u001b[38;5;66;03m# allow either a short timeout or EOF\u001b[39;00m\n\u001b[0;32m--> 129\u001b[0m patterns \u001b[38;5;241m=\u001b[39m [\u001b[43mpexpect\u001b[49m\u001b[38;5;241;43m.\u001b[39;49m\u001b[43mTIMEOUT\u001b[49m, pexpect\u001b[38;5;241m.\u001b[39mEOF]\n\u001b[1;32m    130\u001b[0m \u001b[38;5;66;03m# the index of the EOF pattern in the list.\u001b[39;00m\n\u001b[1;32m    131\u001b[0m \u001b[38;5;66;03m# even though we know it's 1, this call means we don't have to worry if\u001b[39;00m\n\u001b[1;32m    132\u001b[0m \u001b[38;5;66;03m# we change the above list, and forget to change this value:\u001b[39;00m\n\u001b[1;32m    133\u001b[0m EOF_index \u001b[38;5;241m=\u001b[39m patterns\u001b[38;5;241m.\u001b[39mindex(pexpect\u001b[38;5;241m.\u001b[39mEOF)\n",
            "\u001b[0;31mAttributeError\u001b[0m: module 'pexpect' has no attribute 'TIMEOUT'"
          ],
          "output_type": "error"
        }
      ],
      "id": "amazing-million"
    },
    {
      "cell_type": "markdown",
      "source": "### ЗАВДАННЯ",
      "metadata": {
        "heading_collapsed": true,
        "hidden": true
      },
      "id": "periodic-curve"
    },
    {
      "cell_type": "code",
      "source": "# ЗАВДАННЯ 1.1: створити датафрейм з списку 10-ти простих чисел\ndf1_1 = pd.DataFrame(['2','3','5','7','11','13','17','19','23','29'])\ndf1_1",
      "metadata": {
        "hidden": true,
        "trusted": true
      },
      "execution_count": 18,
      "outputs": [
        {
          "execution_count": 18,
          "output_type": "execute_result",
          "data": {
            "text/plain": "    0\n0   2\n1   3\n2   5\n3   7\n4  11\n5  13\n6  17\n7  19\n8  23\n9  29",
            "text/html": "<div>\n<style scoped>\n    .dataframe tbody tr th:only-of-type {\n        vertical-align: middle;\n    }\n\n    .dataframe tbody tr th {\n        vertical-align: top;\n    }\n\n    .dataframe thead th {\n        text-align: right;\n    }\n</style>\n<table border=\"1\" class=\"dataframe\">\n  <thead>\n    <tr style=\"text-align: right;\">\n      <th></th>\n      <th>0</th>\n    </tr>\n  </thead>\n  <tbody>\n    <tr>\n      <th>0</th>\n      <td>2</td>\n    </tr>\n    <tr>\n      <th>1</th>\n      <td>3</td>\n    </tr>\n    <tr>\n      <th>2</th>\n      <td>5</td>\n    </tr>\n    <tr>\n      <th>3</th>\n      <td>7</td>\n    </tr>\n    <tr>\n      <th>4</th>\n      <td>11</td>\n    </tr>\n    <tr>\n      <th>5</th>\n      <td>13</td>\n    </tr>\n    <tr>\n      <th>6</th>\n      <td>17</td>\n    </tr>\n    <tr>\n      <th>7</th>\n      <td>19</td>\n    </tr>\n    <tr>\n      <th>8</th>\n      <td>23</td>\n    </tr>\n    <tr>\n      <th>9</th>\n      <td>29</td>\n    </tr>\n  </tbody>\n</table>\n</div>"
          },
          "metadata": {}
        }
      ],
      "id": "mounted-corps"
    },
    {
      "cell_type": "code",
      "source": "# ЗАВДАННЯ 1.2: створити датафрейм з матриці 5х6 чисел з плаваючою точкою\narr1_2= np.random.rand(5, 6)\ndf1_2 = pd.DataFrame(arr1_2)\ndf1_2",
      "metadata": {
        "hidden": true,
        "trusted": true
      },
      "execution_count": 25,
      "outputs": [
        {
          "execution_count": 25,
          "output_type": "execute_result",
          "data": {
            "text/plain": "          0         1         2         3         4         5\n0  0.026615  0.997578  0.585155  0.880178  0.282673  0.758598\n1  0.935645  0.131694  0.896420  0.892982  0.831537  0.161692\n2  0.940845  0.569077  0.812939  0.529638  0.732961  0.592804\n3  0.950749  0.206354  0.328766  0.389391  0.488669  0.965150\n4  0.950512  0.097435  0.920441  0.629022  0.055984  0.561254",
            "text/html": "<div>\n<style scoped>\n    .dataframe tbody tr th:only-of-type {\n        vertical-align: middle;\n    }\n\n    .dataframe tbody tr th {\n        vertical-align: top;\n    }\n\n    .dataframe thead th {\n        text-align: right;\n    }\n</style>\n<table border=\"1\" class=\"dataframe\">\n  <thead>\n    <tr style=\"text-align: right;\">\n      <th></th>\n      <th>0</th>\n      <th>1</th>\n      <th>2</th>\n      <th>3</th>\n      <th>4</th>\n      <th>5</th>\n    </tr>\n  </thead>\n  <tbody>\n    <tr>\n      <th>0</th>\n      <td>0.026615</td>\n      <td>0.997578</td>\n      <td>0.585155</td>\n      <td>0.880178</td>\n      <td>0.282673</td>\n      <td>0.758598</td>\n    </tr>\n    <tr>\n      <th>1</th>\n      <td>0.935645</td>\n      <td>0.131694</td>\n      <td>0.896420</td>\n      <td>0.892982</td>\n      <td>0.831537</td>\n      <td>0.161692</td>\n    </tr>\n    <tr>\n      <th>2</th>\n      <td>0.940845</td>\n      <td>0.569077</td>\n      <td>0.812939</td>\n      <td>0.529638</td>\n      <td>0.732961</td>\n      <td>0.592804</td>\n    </tr>\n    <tr>\n      <th>3</th>\n      <td>0.950749</td>\n      <td>0.206354</td>\n      <td>0.328766</td>\n      <td>0.389391</td>\n      <td>0.488669</td>\n      <td>0.965150</td>\n    </tr>\n    <tr>\n      <th>4</th>\n      <td>0.950512</td>\n      <td>0.097435</td>\n      <td>0.920441</td>\n      <td>0.629022</td>\n      <td>0.055984</td>\n      <td>0.561254</td>\n    </tr>\n  </tbody>\n</table>\n</div>"
          },
          "metadata": {}
        }
      ],
      "id": "ignored-richards"
    },
    {
      "cell_type": "markdown",
      "source": "",
      "metadata": {
        "hidden": true
      },
      "id": "7b0bf034-e82e-4ab0-8874-4b8addb7dc5c"
    },
    {
      "cell_type": "code",
      "source": "name = [\"Петро\", \"Іван\", \"Степан\"]\nsecondname = [\"Петров\", \"Іванов\", \"Степанов\"]\nyear = [\"2000\", \"2002\", \"2001\"]\nnumber = [\"222-222-2222\", \"333-333-3333\", \"444-444-4444\"]\nspisok = list(zip(name, secondname, year, number))\ndf1_3 = pd.DataFrame(spisok, columns=[\"Ім'я\", \"прізвище\", \"Рік народження\", \"телефон\"])\ndf1_3",
      "metadata": {
        "hidden": true,
        "trusted": true
      },
      "execution_count": 26,
      "outputs": [
        {
          "execution_count": 26,
          "output_type": "execute_result",
          "data": {
            "text/plain": "     Ім'я  прізвище Рік народження       телефон\n0   Петро    Петров           2000  222-222-2222\n1    Іван    Іванов           2002  333-333-3333\n2  Степан  Степанов           2001  444-444-4444",
            "text/html": "<div>\n<style scoped>\n    .dataframe tbody tr th:only-of-type {\n        vertical-align: middle;\n    }\n\n    .dataframe tbody tr th {\n        vertical-align: top;\n    }\n\n    .dataframe thead th {\n        text-align: right;\n    }\n</style>\n<table border=\"1\" class=\"dataframe\">\n  <thead>\n    <tr style=\"text-align: right;\">\n      <th></th>\n      <th>Ім'я</th>\n      <th>прізвище</th>\n      <th>Рік народження</th>\n      <th>телефон</th>\n    </tr>\n  </thead>\n  <tbody>\n    <tr>\n      <th>0</th>\n      <td>Петро</td>\n      <td>Петров</td>\n      <td>2000</td>\n      <td>222-222-2222</td>\n    </tr>\n    <tr>\n      <th>1</th>\n      <td>Іван</td>\n      <td>Іванов</td>\n      <td>2002</td>\n      <td>333-333-3333</td>\n    </tr>\n    <tr>\n      <th>2</th>\n      <td>Степан</td>\n      <td>Степанов</td>\n      <td>2001</td>\n      <td>444-444-4444</td>\n    </tr>\n  </tbody>\n</table>\n</div>"
          },
          "metadata": {}
        }
      ],
      "id": "patent-chair"
    },
    {
      "cell_type": "code",
      "source": "# ЗАВДАННЯ 1.4: створити датафрейм з 20 перших рядків excel-файлу, \n# який розташовано за адресою: \n# https://file-examples-com.github.io/uploads/2017/02/file_example_XLS_100.xls\n\ndf1_4= pd.read_excel(\"https://file-examples-com.github.io/uploads/2017/02/file_example_XLS_100.xls\", nrows=20)\ndf1_4 ",
      "metadata": {
        "hidden": true,
        "trusted": true
      },
      "execution_count": 38,
      "outputs": [
        {
          "ename": "<class 'urllib.error.URLError'>",
          "evalue": "<urlopen error unknown url type: https>",
          "traceback": [
            "\u001b[0;31m---------------------------------------------------------------------------\u001b[0m",
            "\u001b[0;31mURLError\u001b[0m                                  Traceback (most recent call last)",
            "Input \u001b[0;32mIn [38]\u001b[0m, in \u001b[0;36m<cell line: 5>\u001b[0;34m()\u001b[0m\n\u001b[1;32m      1\u001b[0m \u001b[38;5;66;03m# ЗАВДАННЯ 1.4: створити датафрейм з 20 перших рядків excel-файлу, \u001b[39;00m\n\u001b[1;32m      2\u001b[0m \u001b[38;5;66;03m# який розташовано за адресою: \u001b[39;00m\n\u001b[1;32m      3\u001b[0m \u001b[38;5;66;03m# https://file-examples-com.github.io/uploads/2017/02/file_example_XLS_100.xls\u001b[39;00m\n\u001b[0;32m----> 5\u001b[0m df1_4\u001b[38;5;241m=\u001b[39m \u001b[43mpd\u001b[49m\u001b[38;5;241;43m.\u001b[39;49m\u001b[43mread_excel\u001b[49m\u001b[43m(\u001b[49m\u001b[38;5;124;43m\"\u001b[39;49m\u001b[38;5;124;43mhttps://file-examples-com.github.io/uploads/2017/02/file_example_XLS_100.xls\u001b[39;49m\u001b[38;5;124;43m\"\u001b[39;49m\u001b[43m,\u001b[49m\u001b[43m \u001b[49m\u001b[43mnrows\u001b[49m\u001b[38;5;241;43m=\u001b[39;49m\u001b[38;5;241;43m20\u001b[39;49m\u001b[43m)\u001b[49m\n\u001b[1;32m      6\u001b[0m df1_4\n",
            "File \u001b[0;32m/lib/python3.10/site-packages/pandas/util/_decorators.py:311\u001b[0m, in \u001b[0;36mdeprecate_nonkeyword_arguments.<locals>.decorate.<locals>.wrapper\u001b[0;34m(*args, **kwargs)\u001b[0m\n\u001b[1;32m    305\u001b[0m \u001b[38;5;28;01mif\u001b[39;00m \u001b[38;5;28mlen\u001b[39m(args) \u001b[38;5;241m>\u001b[39m num_allow_args:\n\u001b[1;32m    306\u001b[0m     warnings\u001b[38;5;241m.\u001b[39mwarn(\n\u001b[1;32m    307\u001b[0m         msg\u001b[38;5;241m.\u001b[39mformat(arguments\u001b[38;5;241m=\u001b[39marguments),\n\u001b[1;32m    308\u001b[0m         \u001b[38;5;167;01mFutureWarning\u001b[39;00m,\n\u001b[1;32m    309\u001b[0m         stacklevel\u001b[38;5;241m=\u001b[39mstacklevel,\n\u001b[1;32m    310\u001b[0m     )\n\u001b[0;32m--> 311\u001b[0m \u001b[38;5;28;01mreturn\u001b[39;00m func(\u001b[38;5;241m*\u001b[39margs, \u001b[38;5;241m*\u001b[39m\u001b[38;5;241m*\u001b[39mkwargs)\n",
            "File \u001b[0;32m/lib/python3.10/site-packages/pandas/io/excel/_base.py:457\u001b[0m, in \u001b[0;36mread_excel\u001b[0;34m(io, sheet_name, header, names, index_col, usecols, squeeze, dtype, engine, converters, true_values, false_values, skiprows, nrows, na_values, keep_default_na, na_filter, verbose, parse_dates, date_parser, thousands, decimal, comment, skipfooter, convert_float, mangle_dupe_cols, storage_options)\u001b[0m\n\u001b[1;32m    455\u001b[0m \u001b[38;5;28;01mif\u001b[39;00m \u001b[38;5;129;01mnot\u001b[39;00m \u001b[38;5;28misinstance\u001b[39m(io, ExcelFile):\n\u001b[1;32m    456\u001b[0m     should_close \u001b[38;5;241m=\u001b[39m \u001b[38;5;28;01mTrue\u001b[39;00m\n\u001b[0;32m--> 457\u001b[0m     io \u001b[38;5;241m=\u001b[39m \u001b[43mExcelFile\u001b[49m\u001b[43m(\u001b[49m\u001b[43mio\u001b[49m\u001b[43m,\u001b[49m\u001b[43m \u001b[49m\u001b[43mstorage_options\u001b[49m\u001b[38;5;241;43m=\u001b[39;49m\u001b[43mstorage_options\u001b[49m\u001b[43m,\u001b[49m\u001b[43m \u001b[49m\u001b[43mengine\u001b[49m\u001b[38;5;241;43m=\u001b[39;49m\u001b[43mengine\u001b[49m\u001b[43m)\u001b[49m\n\u001b[1;32m    458\u001b[0m \u001b[38;5;28;01melif\u001b[39;00m engine \u001b[38;5;129;01mand\u001b[39;00m engine \u001b[38;5;241m!=\u001b[39m io\u001b[38;5;241m.\u001b[39mengine:\n\u001b[1;32m    459\u001b[0m     \u001b[38;5;28;01mraise\u001b[39;00m \u001b[38;5;167;01mValueError\u001b[39;00m(\n\u001b[1;32m    460\u001b[0m         \u001b[38;5;124m\"\u001b[39m\u001b[38;5;124mEngine should not be specified when passing \u001b[39m\u001b[38;5;124m\"\u001b[39m\n\u001b[1;32m    461\u001b[0m         \u001b[38;5;124m\"\u001b[39m\u001b[38;5;124man ExcelFile - ExcelFile already has the engine set\u001b[39m\u001b[38;5;124m\"\u001b[39m\n\u001b[1;32m    462\u001b[0m     )\n",
            "File \u001b[0;32m/lib/python3.10/site-packages/pandas/io/excel/_base.py:1376\u001b[0m, in \u001b[0;36mExcelFile.__init__\u001b[0;34m(self, path_or_buffer, engine, storage_options)\u001b[0m\n\u001b[1;32m   1374\u001b[0m     ext \u001b[38;5;241m=\u001b[39m \u001b[38;5;124m\"\u001b[39m\u001b[38;5;124mxls\u001b[39m\u001b[38;5;124m\"\u001b[39m\n\u001b[1;32m   1375\u001b[0m \u001b[38;5;28;01melse\u001b[39;00m:\n\u001b[0;32m-> 1376\u001b[0m     ext \u001b[38;5;241m=\u001b[39m \u001b[43minspect_excel_format\u001b[49m\u001b[43m(\u001b[49m\n\u001b[1;32m   1377\u001b[0m \u001b[43m        \u001b[49m\u001b[43mcontent_or_path\u001b[49m\u001b[38;5;241;43m=\u001b[39;49m\u001b[43mpath_or_buffer\u001b[49m\u001b[43m,\u001b[49m\u001b[43m \u001b[49m\u001b[43mstorage_options\u001b[49m\u001b[38;5;241;43m=\u001b[39;49m\u001b[43mstorage_options\u001b[49m\n\u001b[1;32m   1378\u001b[0m \u001b[43m    \u001b[49m\u001b[43m)\u001b[49m\n\u001b[1;32m   1379\u001b[0m     \u001b[38;5;28;01mif\u001b[39;00m ext \u001b[38;5;129;01mis\u001b[39;00m \u001b[38;5;28;01mNone\u001b[39;00m:\n\u001b[1;32m   1380\u001b[0m         \u001b[38;5;28;01mraise\u001b[39;00m \u001b[38;5;167;01mValueError\u001b[39;00m(\n\u001b[1;32m   1381\u001b[0m             \u001b[38;5;124m\"\u001b[39m\u001b[38;5;124mExcel file format cannot be determined, you must specify \u001b[39m\u001b[38;5;124m\"\u001b[39m\n\u001b[1;32m   1382\u001b[0m             \u001b[38;5;124m\"\u001b[39m\u001b[38;5;124man engine manually.\u001b[39m\u001b[38;5;124m\"\u001b[39m\n\u001b[1;32m   1383\u001b[0m         )\n",
            "File \u001b[0;32m/lib/python3.10/site-packages/pandas/io/excel/_base.py:1250\u001b[0m, in \u001b[0;36minspect_excel_format\u001b[0;34m(content_or_path, storage_options)\u001b[0m\n\u001b[1;32m   1247\u001b[0m \u001b[38;5;28;01mif\u001b[39;00m \u001b[38;5;28misinstance\u001b[39m(content_or_path, \u001b[38;5;28mbytes\u001b[39m):\n\u001b[1;32m   1248\u001b[0m     content_or_path \u001b[38;5;241m=\u001b[39m BytesIO(content_or_path)\n\u001b[0;32m-> 1250\u001b[0m \u001b[38;5;28;01mwith\u001b[39;00m \u001b[43mget_handle\u001b[49m\u001b[43m(\u001b[49m\n\u001b[1;32m   1251\u001b[0m \u001b[43m    \u001b[49m\u001b[43mcontent_or_path\u001b[49m\u001b[43m,\u001b[49m\u001b[43m \u001b[49m\u001b[38;5;124;43m\"\u001b[39;49m\u001b[38;5;124;43mrb\u001b[39;49m\u001b[38;5;124;43m\"\u001b[39;49m\u001b[43m,\u001b[49m\u001b[43m \u001b[49m\u001b[43mstorage_options\u001b[49m\u001b[38;5;241;43m=\u001b[39;49m\u001b[43mstorage_options\u001b[49m\u001b[43m,\u001b[49m\u001b[43m \u001b[49m\u001b[43mis_text\u001b[49m\u001b[38;5;241;43m=\u001b[39;49m\u001b[38;5;28;43;01mFalse\u001b[39;49;00m\n\u001b[1;32m   1252\u001b[0m \u001b[43m\u001b[49m\u001b[43m)\u001b[49m \u001b[38;5;28;01mas\u001b[39;00m handle:\n\u001b[1;32m   1253\u001b[0m     stream \u001b[38;5;241m=\u001b[39m handle\u001b[38;5;241m.\u001b[39mhandle\n\u001b[1;32m   1254\u001b[0m     stream\u001b[38;5;241m.\u001b[39mseek(\u001b[38;5;241m0\u001b[39m)\n",
            "File \u001b[0;32m/lib/python3.10/site-packages/pandas/io/common.py:670\u001b[0m, in \u001b[0;36mget_handle\u001b[0;34m(path_or_buf, mode, encoding, compression, memory_map, is_text, errors, storage_options)\u001b[0m\n\u001b[1;32m    667\u001b[0m     codecs\u001b[38;5;241m.\u001b[39mlookup_error(errors)\n\u001b[1;32m    669\u001b[0m \u001b[38;5;66;03m# open URLs\u001b[39;00m\n\u001b[0;32m--> 670\u001b[0m ioargs \u001b[38;5;241m=\u001b[39m \u001b[43m_get_filepath_or_buffer\u001b[49m\u001b[43m(\u001b[49m\n\u001b[1;32m    671\u001b[0m \u001b[43m    \u001b[49m\u001b[43mpath_or_buf\u001b[49m\u001b[43m,\u001b[49m\n\u001b[1;32m    672\u001b[0m \u001b[43m    \u001b[49m\u001b[43mencoding\u001b[49m\u001b[38;5;241;43m=\u001b[39;49m\u001b[43mencoding\u001b[49m\u001b[43m,\u001b[49m\n\u001b[1;32m    673\u001b[0m \u001b[43m    \u001b[49m\u001b[43mcompression\u001b[49m\u001b[38;5;241;43m=\u001b[39;49m\u001b[43mcompression\u001b[49m\u001b[43m,\u001b[49m\n\u001b[1;32m    674\u001b[0m \u001b[43m    \u001b[49m\u001b[43mmode\u001b[49m\u001b[38;5;241;43m=\u001b[39;49m\u001b[43mmode\u001b[49m\u001b[43m,\u001b[49m\n\u001b[1;32m    675\u001b[0m \u001b[43m    \u001b[49m\u001b[43mstorage_options\u001b[49m\u001b[38;5;241;43m=\u001b[39;49m\u001b[43mstorage_options\u001b[49m\u001b[43m,\u001b[49m\n\u001b[1;32m    676\u001b[0m \u001b[43m\u001b[49m\u001b[43m)\u001b[49m\n\u001b[1;32m    678\u001b[0m handle \u001b[38;5;241m=\u001b[39m ioargs\u001b[38;5;241m.\u001b[39mfilepath_or_buffer\n\u001b[1;32m    679\u001b[0m handles: \u001b[38;5;28mlist\u001b[39m[BaseBuffer]\n",
            "File \u001b[0;32m/lib/python3.10/site-packages/pandas/io/common.py:339\u001b[0m, in \u001b[0;36m_get_filepath_or_buffer\u001b[0;34m(filepath_or_buffer, encoding, compression, mode, storage_options)\u001b[0m\n\u001b[1;32m    337\u001b[0m \u001b[38;5;66;03m# assuming storage_options is to be interpreted as headers\u001b[39;00m\n\u001b[1;32m    338\u001b[0m req_info \u001b[38;5;241m=\u001b[39m urllib\u001b[38;5;241m.\u001b[39mrequest\u001b[38;5;241m.\u001b[39mRequest(filepath_or_buffer, headers\u001b[38;5;241m=\u001b[39mstorage_options)\n\u001b[0;32m--> 339\u001b[0m \u001b[38;5;28;01mwith\u001b[39;00m \u001b[43murlopen\u001b[49m\u001b[43m(\u001b[49m\u001b[43mreq_info\u001b[49m\u001b[43m)\u001b[49m \u001b[38;5;28;01mas\u001b[39;00m req:\n\u001b[1;32m    340\u001b[0m     content_encoding \u001b[38;5;241m=\u001b[39m req\u001b[38;5;241m.\u001b[39mheaders\u001b[38;5;241m.\u001b[39mget(\u001b[38;5;124m\"\u001b[39m\u001b[38;5;124mContent-Encoding\u001b[39m\u001b[38;5;124m\"\u001b[39m, \u001b[38;5;28;01mNone\u001b[39;00m)\n\u001b[1;32m    341\u001b[0m     \u001b[38;5;28;01mif\u001b[39;00m content_encoding \u001b[38;5;241m==\u001b[39m \u001b[38;5;124m\"\u001b[39m\u001b[38;5;124mgzip\u001b[39m\u001b[38;5;124m\"\u001b[39m:\n\u001b[1;32m    342\u001b[0m         \u001b[38;5;66;03m# Override compression based on Content-Encoding header\u001b[39;00m\n",
            "File \u001b[0;32m/lib/python3.10/site-packages/pandas/io/common.py:239\u001b[0m, in \u001b[0;36murlopen\u001b[0;34m(*args, **kwargs)\u001b[0m\n\u001b[1;32m    233\u001b[0m \u001b[38;5;124;03m\"\"\"\u001b[39;00m\n\u001b[1;32m    234\u001b[0m \u001b[38;5;124;03mLazy-import wrapper for stdlib urlopen, as that imports a big chunk of\u001b[39;00m\n\u001b[1;32m    235\u001b[0m \u001b[38;5;124;03mthe stdlib.\u001b[39;00m\n\u001b[1;32m    236\u001b[0m \u001b[38;5;124;03m\"\"\"\u001b[39;00m\n\u001b[1;32m    237\u001b[0m \u001b[38;5;28;01mimport\u001b[39;00m \u001b[38;5;21;01murllib\u001b[39;00m\u001b[38;5;21;01m.\u001b[39;00m\u001b[38;5;21;01mrequest\u001b[39;00m\n\u001b[0;32m--> 239\u001b[0m \u001b[38;5;28;01mreturn\u001b[39;00m urllib\u001b[38;5;241m.\u001b[39mrequest\u001b[38;5;241m.\u001b[39murlopen(\u001b[38;5;241m*\u001b[39margs, \u001b[38;5;241m*\u001b[39m\u001b[38;5;241m*\u001b[39mkwargs)\n",
            "File \u001b[0;32m/lib/python3.10/urllib/request.py:216\u001b[0m, in \u001b[0;36murlopen\u001b[0;34m(url, data, timeout, cafile, capath, cadefault, context)\u001b[0m\n\u001b[1;32m    214\u001b[0m \u001b[38;5;28;01melse\u001b[39;00m:\n\u001b[1;32m    215\u001b[0m     opener \u001b[38;5;241m=\u001b[39m _opener\n\u001b[0;32m--> 216\u001b[0m \u001b[38;5;28;01mreturn\u001b[39;00m \u001b[43mopener\u001b[49m\u001b[38;5;241;43m.\u001b[39;49m\u001b[43mopen\u001b[49m\u001b[43m(\u001b[49m\u001b[43murl\u001b[49m\u001b[43m,\u001b[49m\u001b[43m \u001b[49m\u001b[43mdata\u001b[49m\u001b[43m,\u001b[49m\u001b[43m \u001b[49m\u001b[43mtimeout\u001b[49m\u001b[43m)\u001b[49m\n",
            "File \u001b[0;32m/lib/python3.10/urllib/request.py:519\u001b[0m, in \u001b[0;36mOpenerDirector.open\u001b[0;34m(self, fullurl, data, timeout)\u001b[0m\n\u001b[1;32m    516\u001b[0m     req \u001b[38;5;241m=\u001b[39m meth(req)\n\u001b[1;32m    518\u001b[0m sys\u001b[38;5;241m.\u001b[39maudit(\u001b[38;5;124m'\u001b[39m\u001b[38;5;124murllib.Request\u001b[39m\u001b[38;5;124m'\u001b[39m, req\u001b[38;5;241m.\u001b[39mfull_url, req\u001b[38;5;241m.\u001b[39mdata, req\u001b[38;5;241m.\u001b[39mheaders, req\u001b[38;5;241m.\u001b[39mget_method())\n\u001b[0;32m--> 519\u001b[0m response \u001b[38;5;241m=\u001b[39m \u001b[38;5;28;43mself\u001b[39;49m\u001b[38;5;241;43m.\u001b[39;49m\u001b[43m_open\u001b[49m\u001b[43m(\u001b[49m\u001b[43mreq\u001b[49m\u001b[43m,\u001b[49m\u001b[43m \u001b[49m\u001b[43mdata\u001b[49m\u001b[43m)\u001b[49m\n\u001b[1;32m    521\u001b[0m \u001b[38;5;66;03m# post-process response\u001b[39;00m\n\u001b[1;32m    522\u001b[0m meth_name \u001b[38;5;241m=\u001b[39m protocol\u001b[38;5;241m+\u001b[39m\u001b[38;5;124m\"\u001b[39m\u001b[38;5;124m_response\u001b[39m\u001b[38;5;124m\"\u001b[39m\n",
            "File \u001b[0;32m/lib/python3.10/urllib/request.py:541\u001b[0m, in \u001b[0;36mOpenerDirector._open\u001b[0;34m(self, req, data)\u001b[0m\n\u001b[1;32m    538\u001b[0m \u001b[38;5;28;01mif\u001b[39;00m result:\n\u001b[1;32m    539\u001b[0m     \u001b[38;5;28;01mreturn\u001b[39;00m result\n\u001b[0;32m--> 541\u001b[0m \u001b[38;5;28;01mreturn\u001b[39;00m \u001b[38;5;28;43mself\u001b[39;49m\u001b[38;5;241;43m.\u001b[39;49m\u001b[43m_call_chain\u001b[49m\u001b[43m(\u001b[49m\u001b[38;5;28;43mself\u001b[39;49m\u001b[38;5;241;43m.\u001b[39;49m\u001b[43mhandle_open\u001b[49m\u001b[43m,\u001b[49m\u001b[43m \u001b[49m\u001b[38;5;124;43m'\u001b[39;49m\u001b[38;5;124;43munknown\u001b[39;49m\u001b[38;5;124;43m'\u001b[39;49m\u001b[43m,\u001b[49m\n\u001b[1;32m    542\u001b[0m \u001b[43m                        \u001b[49m\u001b[38;5;124;43m'\u001b[39;49m\u001b[38;5;124;43munknown_open\u001b[39;49m\u001b[38;5;124;43m'\u001b[39;49m\u001b[43m,\u001b[49m\u001b[43m \u001b[49m\u001b[43mreq\u001b[49m\u001b[43m)\u001b[49m\n",
            "File \u001b[0;32m/lib/python3.10/urllib/request.py:496\u001b[0m, in \u001b[0;36mOpenerDirector._call_chain\u001b[0;34m(self, chain, kind, meth_name, *args)\u001b[0m\n\u001b[1;32m    494\u001b[0m \u001b[38;5;28;01mfor\u001b[39;00m handler \u001b[38;5;129;01min\u001b[39;00m handlers:\n\u001b[1;32m    495\u001b[0m     func \u001b[38;5;241m=\u001b[39m \u001b[38;5;28mgetattr\u001b[39m(handler, meth_name)\n\u001b[0;32m--> 496\u001b[0m     result \u001b[38;5;241m=\u001b[39m \u001b[43mfunc\u001b[49m\u001b[43m(\u001b[49m\u001b[38;5;241;43m*\u001b[39;49m\u001b[43margs\u001b[49m\u001b[43m)\u001b[49m\n\u001b[1;32m    497\u001b[0m     \u001b[38;5;28;01mif\u001b[39;00m result \u001b[38;5;129;01mis\u001b[39;00m \u001b[38;5;129;01mnot\u001b[39;00m \u001b[38;5;28;01mNone\u001b[39;00m:\n\u001b[1;32m    498\u001b[0m         \u001b[38;5;28;01mreturn\u001b[39;00m result\n",
            "File \u001b[0;32m/lib/python3.10/urllib/request.py:1419\u001b[0m, in \u001b[0;36mUnknownHandler.unknown_open\u001b[0;34m(self, req)\u001b[0m\n\u001b[1;32m   1417\u001b[0m \u001b[38;5;28;01mdef\u001b[39;00m \u001b[38;5;21munknown_open\u001b[39m(\u001b[38;5;28mself\u001b[39m, req):\n\u001b[1;32m   1418\u001b[0m     \u001b[38;5;28mtype\u001b[39m \u001b[38;5;241m=\u001b[39m req\u001b[38;5;241m.\u001b[39mtype\n\u001b[0;32m-> 1419\u001b[0m     \u001b[38;5;28;01mraise\u001b[39;00m URLError(\u001b[38;5;124m'\u001b[39m\u001b[38;5;124munknown url type: \u001b[39m\u001b[38;5;132;01m%s\u001b[39;00m\u001b[38;5;124m'\u001b[39m \u001b[38;5;241m%\u001b[39m \u001b[38;5;28mtype\u001b[39m)\n",
            "\u001b[0;31mURLError\u001b[0m: <urlopen error unknown url type: https>"
          ],
          "output_type": "error"
        }
      ],
      "id": "sixth-engine"
    },
    {
      "cell_type": "markdown",
      "source": "## 2. Інспектування DataFrame\n\n__Інспектування__ - це процедури вивчення внутрішньої структури даних та вмісту датафрейма",
      "metadata": {
        "heading_collapsed": true
      },
      "id": "european-kernel"
    },
    {
      "cell_type": "markdown",
      "source": "### ПРИКЛАДИ",
      "metadata": {
        "heading_collapsed": true,
        "hidden": true,
        "tags": []
      },
      "id": "a2c138e5"
    },
    {
      "cell_type": "code",
      "source": "# завантаження датасету `titanic` (https://ansmirnov.ru/kaggle-titanic-dataset/)\nurl = \"https://raw.githubusercontent.com/datasciencedojo/datasets/master/titanic.csv\"\ntitanic = pd.read_csv(url) #ПОМИЛКА",
      "metadata": {
        "code_folding": [],
        "hidden": true,
        "trusted": true
      },
      "execution_count": 39,
      "outputs": [
        {
          "ename": "<class 'urllib.error.URLError'>",
          "evalue": "<urlopen error unknown url type: https>",
          "traceback": [
            "\u001b[0;31m---------------------------------------------------------------------------\u001b[0m",
            "\u001b[0;31mURLError\u001b[0m                                  Traceback (most recent call last)",
            "Input \u001b[0;32mIn [39]\u001b[0m, in \u001b[0;36m<cell line: 3>\u001b[0;34m()\u001b[0m\n\u001b[1;32m      1\u001b[0m \u001b[38;5;66;03m# завантаження датасету `titanic` (https://ansmirnov.ru/kaggle-titanic-dataset/)\u001b[39;00m\n\u001b[1;32m      2\u001b[0m url \u001b[38;5;241m=\u001b[39m \u001b[38;5;124m\"\u001b[39m\u001b[38;5;124mhttps://raw.githubusercontent.com/datasciencedojo/datasets/master/titanic.csv\u001b[39m\u001b[38;5;124m\"\u001b[39m\n\u001b[0;32m----> 3\u001b[0m titanic \u001b[38;5;241m=\u001b[39m \u001b[43mpd\u001b[49m\u001b[38;5;241;43m.\u001b[39;49m\u001b[43mread_csv\u001b[49m\u001b[43m(\u001b[49m\u001b[43murl\u001b[49m\u001b[43m)\u001b[49m\n",
            "File \u001b[0;32m/lib/python3.10/site-packages/pandas/util/_decorators.py:311\u001b[0m, in \u001b[0;36mdeprecate_nonkeyword_arguments.<locals>.decorate.<locals>.wrapper\u001b[0;34m(*args, **kwargs)\u001b[0m\n\u001b[1;32m    305\u001b[0m \u001b[38;5;28;01mif\u001b[39;00m \u001b[38;5;28mlen\u001b[39m(args) \u001b[38;5;241m>\u001b[39m num_allow_args:\n\u001b[1;32m    306\u001b[0m     warnings\u001b[38;5;241m.\u001b[39mwarn(\n\u001b[1;32m    307\u001b[0m         msg\u001b[38;5;241m.\u001b[39mformat(arguments\u001b[38;5;241m=\u001b[39marguments),\n\u001b[1;32m    308\u001b[0m         \u001b[38;5;167;01mFutureWarning\u001b[39;00m,\n\u001b[1;32m    309\u001b[0m         stacklevel\u001b[38;5;241m=\u001b[39mstacklevel,\n\u001b[1;32m    310\u001b[0m     )\n\u001b[0;32m--> 311\u001b[0m \u001b[38;5;28;01mreturn\u001b[39;00m func(\u001b[38;5;241m*\u001b[39margs, \u001b[38;5;241m*\u001b[39m\u001b[38;5;241m*\u001b[39mkwargs)\n",
            "File \u001b[0;32m/lib/python3.10/site-packages/pandas/io/parsers/readers.py:680\u001b[0m, in \u001b[0;36mread_csv\u001b[0;34m(filepath_or_buffer, sep, delimiter, header, names, index_col, usecols, squeeze, prefix, mangle_dupe_cols, dtype, engine, converters, true_values, false_values, skipinitialspace, skiprows, skipfooter, nrows, na_values, keep_default_na, na_filter, verbose, skip_blank_lines, parse_dates, infer_datetime_format, keep_date_col, date_parser, dayfirst, cache_dates, iterator, chunksize, compression, thousands, decimal, lineterminator, quotechar, quoting, doublequote, escapechar, comment, encoding, encoding_errors, dialect, error_bad_lines, warn_bad_lines, on_bad_lines, delim_whitespace, low_memory, memory_map, float_precision, storage_options)\u001b[0m\n\u001b[1;32m    665\u001b[0m kwds_defaults \u001b[38;5;241m=\u001b[39m _refine_defaults_read(\n\u001b[1;32m    666\u001b[0m     dialect,\n\u001b[1;32m    667\u001b[0m     delimiter,\n\u001b[0;32m   (...)\u001b[0m\n\u001b[1;32m    676\u001b[0m     defaults\u001b[38;5;241m=\u001b[39m{\u001b[38;5;124m\"\u001b[39m\u001b[38;5;124mdelimiter\u001b[39m\u001b[38;5;124m\"\u001b[39m: \u001b[38;5;124m\"\u001b[39m\u001b[38;5;124m,\u001b[39m\u001b[38;5;124m\"\u001b[39m},\n\u001b[1;32m    677\u001b[0m )\n\u001b[1;32m    678\u001b[0m kwds\u001b[38;5;241m.\u001b[39mupdate(kwds_defaults)\n\u001b[0;32m--> 680\u001b[0m \u001b[38;5;28;01mreturn\u001b[39;00m \u001b[43m_read\u001b[49m\u001b[43m(\u001b[49m\u001b[43mfilepath_or_buffer\u001b[49m\u001b[43m,\u001b[49m\u001b[43m \u001b[49m\u001b[43mkwds\u001b[49m\u001b[43m)\u001b[49m\n",
            "File \u001b[0;32m/lib/python3.10/site-packages/pandas/io/parsers/readers.py:575\u001b[0m, in \u001b[0;36m_read\u001b[0;34m(filepath_or_buffer, kwds)\u001b[0m\n\u001b[1;32m    572\u001b[0m _validate_names(kwds\u001b[38;5;241m.\u001b[39mget(\u001b[38;5;124m\"\u001b[39m\u001b[38;5;124mnames\u001b[39m\u001b[38;5;124m\"\u001b[39m, \u001b[38;5;28;01mNone\u001b[39;00m))\n\u001b[1;32m    574\u001b[0m \u001b[38;5;66;03m# Create the parser.\u001b[39;00m\n\u001b[0;32m--> 575\u001b[0m parser \u001b[38;5;241m=\u001b[39m TextFileReader(filepath_or_buffer, \u001b[38;5;241m*\u001b[39m\u001b[38;5;241m*\u001b[39mkwds)\n\u001b[1;32m    577\u001b[0m \u001b[38;5;28;01mif\u001b[39;00m chunksize \u001b[38;5;129;01mor\u001b[39;00m iterator:\n\u001b[1;32m    578\u001b[0m     \u001b[38;5;28;01mreturn\u001b[39;00m parser\n",
            "File \u001b[0;32m/lib/python3.10/site-packages/pandas/io/parsers/readers.py:933\u001b[0m, in \u001b[0;36mTextFileReader.__init__\u001b[0;34m(self, f, engine, **kwds)\u001b[0m\n\u001b[1;32m    930\u001b[0m     \u001b[38;5;28mself\u001b[39m\u001b[38;5;241m.\u001b[39moptions[\u001b[38;5;124m\"\u001b[39m\u001b[38;5;124mhas_index_names\u001b[39m\u001b[38;5;124m\"\u001b[39m] \u001b[38;5;241m=\u001b[39m kwds[\u001b[38;5;124m\"\u001b[39m\u001b[38;5;124mhas_index_names\u001b[39m\u001b[38;5;124m\"\u001b[39m]\n\u001b[1;32m    932\u001b[0m \u001b[38;5;28mself\u001b[39m\u001b[38;5;241m.\u001b[39mhandles: IOHandles \u001b[38;5;241m|\u001b[39m \u001b[38;5;28;01mNone\u001b[39;00m \u001b[38;5;241m=\u001b[39m \u001b[38;5;28;01mNone\u001b[39;00m\n\u001b[0;32m--> 933\u001b[0m \u001b[38;5;28mself\u001b[39m\u001b[38;5;241m.\u001b[39m_engine \u001b[38;5;241m=\u001b[39m \u001b[38;5;28;43mself\u001b[39;49m\u001b[38;5;241;43m.\u001b[39;49m\u001b[43m_make_engine\u001b[49m\u001b[43m(\u001b[49m\u001b[43mf\u001b[49m\u001b[43m,\u001b[49m\u001b[43m \u001b[49m\u001b[38;5;28;43mself\u001b[39;49m\u001b[38;5;241;43m.\u001b[39;49m\u001b[43mengine\u001b[49m\u001b[43m)\u001b[49m\n",
            "File \u001b[0;32m/lib/python3.10/site-packages/pandas/io/parsers/readers.py:1217\u001b[0m, in \u001b[0;36mTextFileReader._make_engine\u001b[0;34m(self, f, engine)\u001b[0m\n\u001b[1;32m   1213\u001b[0m     mode \u001b[38;5;241m=\u001b[39m \u001b[38;5;124m\"\u001b[39m\u001b[38;5;124mrb\u001b[39m\u001b[38;5;124m\"\u001b[39m\n\u001b[1;32m   1214\u001b[0m \u001b[38;5;66;03m# error: No overload variant of \"get_handle\" matches argument types\u001b[39;00m\n\u001b[1;32m   1215\u001b[0m \u001b[38;5;66;03m# \"Union[str, PathLike[str], ReadCsvBuffer[bytes], ReadCsvBuffer[str]]\"\u001b[39;00m\n\u001b[1;32m   1216\u001b[0m \u001b[38;5;66;03m# , \"str\", \"bool\", \"Any\", \"Any\", \"Any\", \"Any\", \"Any\"\u001b[39;00m\n\u001b[0;32m-> 1217\u001b[0m \u001b[38;5;28mself\u001b[39m\u001b[38;5;241m.\u001b[39mhandles \u001b[38;5;241m=\u001b[39m \u001b[43mget_handle\u001b[49m\u001b[43m(\u001b[49m\u001b[43m  \u001b[49m\u001b[38;5;66;43;03m# type: ignore[call-overload]\u001b[39;49;00m\n\u001b[1;32m   1218\u001b[0m \u001b[43m    \u001b[49m\u001b[43mf\u001b[49m\u001b[43m,\u001b[49m\n\u001b[1;32m   1219\u001b[0m \u001b[43m    \u001b[49m\u001b[43mmode\u001b[49m\u001b[43m,\u001b[49m\n\u001b[1;32m   1220\u001b[0m \u001b[43m    \u001b[49m\u001b[43mencoding\u001b[49m\u001b[38;5;241;43m=\u001b[39;49m\u001b[38;5;28;43mself\u001b[39;49m\u001b[38;5;241;43m.\u001b[39;49m\u001b[43moptions\u001b[49m\u001b[38;5;241;43m.\u001b[39;49m\u001b[43mget\u001b[49m\u001b[43m(\u001b[49m\u001b[38;5;124;43m\"\u001b[39;49m\u001b[38;5;124;43mencoding\u001b[39;49m\u001b[38;5;124;43m\"\u001b[39;49m\u001b[43m,\u001b[49m\u001b[43m \u001b[49m\u001b[38;5;28;43;01mNone\u001b[39;49;00m\u001b[43m)\u001b[49m\u001b[43m,\u001b[49m\n\u001b[1;32m   1221\u001b[0m \u001b[43m    \u001b[49m\u001b[43mcompression\u001b[49m\u001b[38;5;241;43m=\u001b[39;49m\u001b[38;5;28;43mself\u001b[39;49m\u001b[38;5;241;43m.\u001b[39;49m\u001b[43moptions\u001b[49m\u001b[38;5;241;43m.\u001b[39;49m\u001b[43mget\u001b[49m\u001b[43m(\u001b[49m\u001b[38;5;124;43m\"\u001b[39;49m\u001b[38;5;124;43mcompression\u001b[39;49m\u001b[38;5;124;43m\"\u001b[39;49m\u001b[43m,\u001b[49m\u001b[43m \u001b[49m\u001b[38;5;28;43;01mNone\u001b[39;49;00m\u001b[43m)\u001b[49m\u001b[43m,\u001b[49m\n\u001b[1;32m   1222\u001b[0m \u001b[43m    \u001b[49m\u001b[43mmemory_map\u001b[49m\u001b[38;5;241;43m=\u001b[39;49m\u001b[38;5;28;43mself\u001b[39;49m\u001b[38;5;241;43m.\u001b[39;49m\u001b[43moptions\u001b[49m\u001b[38;5;241;43m.\u001b[39;49m\u001b[43mget\u001b[49m\u001b[43m(\u001b[49m\u001b[38;5;124;43m\"\u001b[39;49m\u001b[38;5;124;43mmemory_map\u001b[39;49m\u001b[38;5;124;43m\"\u001b[39;49m\u001b[43m,\u001b[49m\u001b[43m \u001b[49m\u001b[38;5;28;43;01mFalse\u001b[39;49;00m\u001b[43m)\u001b[49m\u001b[43m,\u001b[49m\n\u001b[1;32m   1223\u001b[0m \u001b[43m    \u001b[49m\u001b[43mis_text\u001b[49m\u001b[38;5;241;43m=\u001b[39;49m\u001b[43mis_text\u001b[49m\u001b[43m,\u001b[49m\n\u001b[1;32m   1224\u001b[0m \u001b[43m    \u001b[49m\u001b[43merrors\u001b[49m\u001b[38;5;241;43m=\u001b[39;49m\u001b[38;5;28;43mself\u001b[39;49m\u001b[38;5;241;43m.\u001b[39;49m\u001b[43moptions\u001b[49m\u001b[38;5;241;43m.\u001b[39;49m\u001b[43mget\u001b[49m\u001b[43m(\u001b[49m\u001b[38;5;124;43m\"\u001b[39;49m\u001b[38;5;124;43mencoding_errors\u001b[39;49m\u001b[38;5;124;43m\"\u001b[39;49m\u001b[43m,\u001b[49m\u001b[43m \u001b[49m\u001b[38;5;124;43m\"\u001b[39;49m\u001b[38;5;124;43mstrict\u001b[39;49m\u001b[38;5;124;43m\"\u001b[39;49m\u001b[43m)\u001b[49m\u001b[43m,\u001b[49m\n\u001b[1;32m   1225\u001b[0m \u001b[43m    \u001b[49m\u001b[43mstorage_options\u001b[49m\u001b[38;5;241;43m=\u001b[39;49m\u001b[38;5;28;43mself\u001b[39;49m\u001b[38;5;241;43m.\u001b[39;49m\u001b[43moptions\u001b[49m\u001b[38;5;241;43m.\u001b[39;49m\u001b[43mget\u001b[49m\u001b[43m(\u001b[49m\u001b[38;5;124;43m\"\u001b[39;49m\u001b[38;5;124;43mstorage_options\u001b[39;49m\u001b[38;5;124;43m\"\u001b[39;49m\u001b[43m,\u001b[49m\u001b[43m \u001b[49m\u001b[38;5;28;43;01mNone\u001b[39;49;00m\u001b[43m)\u001b[49m\u001b[43m,\u001b[49m\n\u001b[1;32m   1226\u001b[0m \u001b[43m\u001b[49m\u001b[43m)\u001b[49m\n\u001b[1;32m   1227\u001b[0m \u001b[38;5;28;01massert\u001b[39;00m \u001b[38;5;28mself\u001b[39m\u001b[38;5;241m.\u001b[39mhandles \u001b[38;5;129;01mis\u001b[39;00m \u001b[38;5;129;01mnot\u001b[39;00m \u001b[38;5;28;01mNone\u001b[39;00m\n\u001b[1;32m   1228\u001b[0m f \u001b[38;5;241m=\u001b[39m \u001b[38;5;28mself\u001b[39m\u001b[38;5;241m.\u001b[39mhandles\u001b[38;5;241m.\u001b[39mhandle\n",
            "File \u001b[0;32m/lib/python3.10/site-packages/pandas/io/common.py:670\u001b[0m, in \u001b[0;36mget_handle\u001b[0;34m(path_or_buf, mode, encoding, compression, memory_map, is_text, errors, storage_options)\u001b[0m\n\u001b[1;32m    667\u001b[0m     codecs\u001b[38;5;241m.\u001b[39mlookup_error(errors)\n\u001b[1;32m    669\u001b[0m \u001b[38;5;66;03m# open URLs\u001b[39;00m\n\u001b[0;32m--> 670\u001b[0m ioargs \u001b[38;5;241m=\u001b[39m \u001b[43m_get_filepath_or_buffer\u001b[49m\u001b[43m(\u001b[49m\n\u001b[1;32m    671\u001b[0m \u001b[43m    \u001b[49m\u001b[43mpath_or_buf\u001b[49m\u001b[43m,\u001b[49m\n\u001b[1;32m    672\u001b[0m \u001b[43m    \u001b[49m\u001b[43mencoding\u001b[49m\u001b[38;5;241;43m=\u001b[39;49m\u001b[43mencoding\u001b[49m\u001b[43m,\u001b[49m\n\u001b[1;32m    673\u001b[0m \u001b[43m    \u001b[49m\u001b[43mcompression\u001b[49m\u001b[38;5;241;43m=\u001b[39;49m\u001b[43mcompression\u001b[49m\u001b[43m,\u001b[49m\n\u001b[1;32m    674\u001b[0m \u001b[43m    \u001b[49m\u001b[43mmode\u001b[49m\u001b[38;5;241;43m=\u001b[39;49m\u001b[43mmode\u001b[49m\u001b[43m,\u001b[49m\n\u001b[1;32m    675\u001b[0m \u001b[43m    \u001b[49m\u001b[43mstorage_options\u001b[49m\u001b[38;5;241;43m=\u001b[39;49m\u001b[43mstorage_options\u001b[49m\u001b[43m,\u001b[49m\n\u001b[1;32m    676\u001b[0m \u001b[43m\u001b[49m\u001b[43m)\u001b[49m\n\u001b[1;32m    678\u001b[0m handle \u001b[38;5;241m=\u001b[39m ioargs\u001b[38;5;241m.\u001b[39mfilepath_or_buffer\n\u001b[1;32m    679\u001b[0m handles: \u001b[38;5;28mlist\u001b[39m[BaseBuffer]\n",
            "File \u001b[0;32m/lib/python3.10/site-packages/pandas/io/common.py:339\u001b[0m, in \u001b[0;36m_get_filepath_or_buffer\u001b[0;34m(filepath_or_buffer, encoding, compression, mode, storage_options)\u001b[0m\n\u001b[1;32m    337\u001b[0m \u001b[38;5;66;03m# assuming storage_options is to be interpreted as headers\u001b[39;00m\n\u001b[1;32m    338\u001b[0m req_info \u001b[38;5;241m=\u001b[39m urllib\u001b[38;5;241m.\u001b[39mrequest\u001b[38;5;241m.\u001b[39mRequest(filepath_or_buffer, headers\u001b[38;5;241m=\u001b[39mstorage_options)\n\u001b[0;32m--> 339\u001b[0m \u001b[38;5;28;01mwith\u001b[39;00m \u001b[43murlopen\u001b[49m\u001b[43m(\u001b[49m\u001b[43mreq_info\u001b[49m\u001b[43m)\u001b[49m \u001b[38;5;28;01mas\u001b[39;00m req:\n\u001b[1;32m    340\u001b[0m     content_encoding \u001b[38;5;241m=\u001b[39m req\u001b[38;5;241m.\u001b[39mheaders\u001b[38;5;241m.\u001b[39mget(\u001b[38;5;124m\"\u001b[39m\u001b[38;5;124mContent-Encoding\u001b[39m\u001b[38;5;124m\"\u001b[39m, \u001b[38;5;28;01mNone\u001b[39;00m)\n\u001b[1;32m    341\u001b[0m     \u001b[38;5;28;01mif\u001b[39;00m content_encoding \u001b[38;5;241m==\u001b[39m \u001b[38;5;124m\"\u001b[39m\u001b[38;5;124mgzip\u001b[39m\u001b[38;5;124m\"\u001b[39m:\n\u001b[1;32m    342\u001b[0m         \u001b[38;5;66;03m# Override compression based on Content-Encoding header\u001b[39;00m\n",
            "File \u001b[0;32m/lib/python3.10/site-packages/pandas/io/common.py:239\u001b[0m, in \u001b[0;36murlopen\u001b[0;34m(*args, **kwargs)\u001b[0m\n\u001b[1;32m    233\u001b[0m \u001b[38;5;124;03m\"\"\"\u001b[39;00m\n\u001b[1;32m    234\u001b[0m \u001b[38;5;124;03mLazy-import wrapper for stdlib urlopen, as that imports a big chunk of\u001b[39;00m\n\u001b[1;32m    235\u001b[0m \u001b[38;5;124;03mthe stdlib.\u001b[39;00m\n\u001b[1;32m    236\u001b[0m \u001b[38;5;124;03m\"\"\"\u001b[39;00m\n\u001b[1;32m    237\u001b[0m \u001b[38;5;28;01mimport\u001b[39;00m \u001b[38;5;21;01murllib\u001b[39;00m\u001b[38;5;21;01m.\u001b[39;00m\u001b[38;5;21;01mrequest\u001b[39;00m\n\u001b[0;32m--> 239\u001b[0m \u001b[38;5;28;01mreturn\u001b[39;00m urllib\u001b[38;5;241m.\u001b[39mrequest\u001b[38;5;241m.\u001b[39murlopen(\u001b[38;5;241m*\u001b[39margs, \u001b[38;5;241m*\u001b[39m\u001b[38;5;241m*\u001b[39mkwargs)\n",
            "File \u001b[0;32m/lib/python3.10/urllib/request.py:216\u001b[0m, in \u001b[0;36murlopen\u001b[0;34m(url, data, timeout, cafile, capath, cadefault, context)\u001b[0m\n\u001b[1;32m    214\u001b[0m \u001b[38;5;28;01melse\u001b[39;00m:\n\u001b[1;32m    215\u001b[0m     opener \u001b[38;5;241m=\u001b[39m _opener\n\u001b[0;32m--> 216\u001b[0m \u001b[38;5;28;01mreturn\u001b[39;00m \u001b[43mopener\u001b[49m\u001b[38;5;241;43m.\u001b[39;49m\u001b[43mopen\u001b[49m\u001b[43m(\u001b[49m\u001b[43murl\u001b[49m\u001b[43m,\u001b[49m\u001b[43m \u001b[49m\u001b[43mdata\u001b[49m\u001b[43m,\u001b[49m\u001b[43m \u001b[49m\u001b[43mtimeout\u001b[49m\u001b[43m)\u001b[49m\n",
            "File \u001b[0;32m/lib/python3.10/urllib/request.py:519\u001b[0m, in \u001b[0;36mOpenerDirector.open\u001b[0;34m(self, fullurl, data, timeout)\u001b[0m\n\u001b[1;32m    516\u001b[0m     req \u001b[38;5;241m=\u001b[39m meth(req)\n\u001b[1;32m    518\u001b[0m sys\u001b[38;5;241m.\u001b[39maudit(\u001b[38;5;124m'\u001b[39m\u001b[38;5;124murllib.Request\u001b[39m\u001b[38;5;124m'\u001b[39m, req\u001b[38;5;241m.\u001b[39mfull_url, req\u001b[38;5;241m.\u001b[39mdata, req\u001b[38;5;241m.\u001b[39mheaders, req\u001b[38;5;241m.\u001b[39mget_method())\n\u001b[0;32m--> 519\u001b[0m response \u001b[38;5;241m=\u001b[39m \u001b[38;5;28;43mself\u001b[39;49m\u001b[38;5;241;43m.\u001b[39;49m\u001b[43m_open\u001b[49m\u001b[43m(\u001b[49m\u001b[43mreq\u001b[49m\u001b[43m,\u001b[49m\u001b[43m \u001b[49m\u001b[43mdata\u001b[49m\u001b[43m)\u001b[49m\n\u001b[1;32m    521\u001b[0m \u001b[38;5;66;03m# post-process response\u001b[39;00m\n\u001b[1;32m    522\u001b[0m meth_name \u001b[38;5;241m=\u001b[39m protocol\u001b[38;5;241m+\u001b[39m\u001b[38;5;124m\"\u001b[39m\u001b[38;5;124m_response\u001b[39m\u001b[38;5;124m\"\u001b[39m\n",
            "File \u001b[0;32m/lib/python3.10/urllib/request.py:541\u001b[0m, in \u001b[0;36mOpenerDirector._open\u001b[0;34m(self, req, data)\u001b[0m\n\u001b[1;32m    538\u001b[0m \u001b[38;5;28;01mif\u001b[39;00m result:\n\u001b[1;32m    539\u001b[0m     \u001b[38;5;28;01mreturn\u001b[39;00m result\n\u001b[0;32m--> 541\u001b[0m \u001b[38;5;28;01mreturn\u001b[39;00m \u001b[38;5;28;43mself\u001b[39;49m\u001b[38;5;241;43m.\u001b[39;49m\u001b[43m_call_chain\u001b[49m\u001b[43m(\u001b[49m\u001b[38;5;28;43mself\u001b[39;49m\u001b[38;5;241;43m.\u001b[39;49m\u001b[43mhandle_open\u001b[49m\u001b[43m,\u001b[49m\u001b[43m \u001b[49m\u001b[38;5;124;43m'\u001b[39;49m\u001b[38;5;124;43munknown\u001b[39;49m\u001b[38;5;124;43m'\u001b[39;49m\u001b[43m,\u001b[49m\n\u001b[1;32m    542\u001b[0m \u001b[43m                        \u001b[49m\u001b[38;5;124;43m'\u001b[39;49m\u001b[38;5;124;43munknown_open\u001b[39;49m\u001b[38;5;124;43m'\u001b[39;49m\u001b[43m,\u001b[49m\u001b[43m \u001b[49m\u001b[43mreq\u001b[49m\u001b[43m)\u001b[49m\n",
            "File \u001b[0;32m/lib/python3.10/urllib/request.py:496\u001b[0m, in \u001b[0;36mOpenerDirector._call_chain\u001b[0;34m(self, chain, kind, meth_name, *args)\u001b[0m\n\u001b[1;32m    494\u001b[0m \u001b[38;5;28;01mfor\u001b[39;00m handler \u001b[38;5;129;01min\u001b[39;00m handlers:\n\u001b[1;32m    495\u001b[0m     func \u001b[38;5;241m=\u001b[39m \u001b[38;5;28mgetattr\u001b[39m(handler, meth_name)\n\u001b[0;32m--> 496\u001b[0m     result \u001b[38;5;241m=\u001b[39m \u001b[43mfunc\u001b[49m\u001b[43m(\u001b[49m\u001b[38;5;241;43m*\u001b[39;49m\u001b[43margs\u001b[49m\u001b[43m)\u001b[49m\n\u001b[1;32m    497\u001b[0m     \u001b[38;5;28;01mif\u001b[39;00m result \u001b[38;5;129;01mis\u001b[39;00m \u001b[38;5;129;01mnot\u001b[39;00m \u001b[38;5;28;01mNone\u001b[39;00m:\n\u001b[1;32m    498\u001b[0m         \u001b[38;5;28;01mreturn\u001b[39;00m result\n",
            "File \u001b[0;32m/lib/python3.10/urllib/request.py:1419\u001b[0m, in \u001b[0;36mUnknownHandler.unknown_open\u001b[0;34m(self, req)\u001b[0m\n\u001b[1;32m   1417\u001b[0m \u001b[38;5;28;01mdef\u001b[39;00m \u001b[38;5;21munknown_open\u001b[39m(\u001b[38;5;28mself\u001b[39m, req):\n\u001b[1;32m   1418\u001b[0m     \u001b[38;5;28mtype\u001b[39m \u001b[38;5;241m=\u001b[39m req\u001b[38;5;241m.\u001b[39mtype\n\u001b[0;32m-> 1419\u001b[0m     \u001b[38;5;28;01mraise\u001b[39;00m URLError(\u001b[38;5;124m'\u001b[39m\u001b[38;5;124munknown url type: \u001b[39m\u001b[38;5;132;01m%s\u001b[39;00m\u001b[38;5;124m'\u001b[39m \u001b[38;5;241m%\u001b[39m \u001b[38;5;28mtype\u001b[39m)\n",
            "\u001b[0;31mURLError\u001b[0m: <urlopen error unknown url type: https>"
          ],
          "output_type": "error"
        }
      ],
      "id": "severe-mississippi"
    },
    {
      "cell_type": "code",
      "source": "# отримати загальну інформацію про датасет\ntitanic.info()",
      "metadata": {
        "hidden": true,
        "scrolled": true,
        "trusted": true
      },
      "execution_count": 40,
      "outputs": [
        {
          "ename": "<class 'NameError'>",
          "evalue": "name 'titanic' is not defined",
          "traceback": [
            "\u001b[0;31m---------------------------------------------------------------------------\u001b[0m",
            "\u001b[0;31mNameError\u001b[0m                                 Traceback (most recent call last)",
            "Input \u001b[0;32mIn [40]\u001b[0m, in \u001b[0;36m<cell line: 2>\u001b[0;34m()\u001b[0m\n\u001b[1;32m      1\u001b[0m \u001b[38;5;66;03m# отримати загальну інформацію про датасет\u001b[39;00m\n\u001b[0;32m----> 2\u001b[0m \u001b[43mtitanic\u001b[49m\u001b[38;5;241m.\u001b[39minfo()\n",
            "\u001b[0;31mNameError\u001b[0m: name 'titanic' is not defined"
          ],
          "output_type": "error"
        }
      ],
      "id": "dimensional-ordinance"
    },
    {
      "cell_type": "code",
      "source": "# вивести перші 3 рядкі\ntitanic.head(3)",
      "metadata": {
        "hidden": true,
        "trusted": true
      },
      "execution_count": 41,
      "outputs": [
        {
          "ename": "<class 'NameError'>",
          "evalue": "name 'titanic' is not defined",
          "traceback": [
            "\u001b[0;31m---------------------------------------------------------------------------\u001b[0m",
            "\u001b[0;31mNameError\u001b[0m                                 Traceback (most recent call last)",
            "Input \u001b[0;32mIn [41]\u001b[0m, in \u001b[0;36m<cell line: 2>\u001b[0;34m()\u001b[0m\n\u001b[1;32m      1\u001b[0m \u001b[38;5;66;03m# вивести перші 3 рядкі\u001b[39;00m\n\u001b[0;32m----> 2\u001b[0m \u001b[43mtitanic\u001b[49m\u001b[38;5;241m.\u001b[39mhead(\u001b[38;5;241m3\u001b[39m)\n",
            "\u001b[0;31mNameError\u001b[0m: name 'titanic' is not defined"
          ],
          "output_type": "error"
        }
      ],
      "id": "checked-score"
    },
    {
      "cell_type": "code",
      "source": "# вивести останні 2 рядки\ntitanic.tail(2)",
      "metadata": {
        "hidden": true,
        "trusted": true
      },
      "execution_count": 42,
      "outputs": [
        {
          "ename": "<class 'NameError'>",
          "evalue": "name 'titanic' is not defined",
          "traceback": [
            "\u001b[0;31m---------------------------------------------------------------------------\u001b[0m",
            "\u001b[0;31mNameError\u001b[0m                                 Traceback (most recent call last)",
            "Input \u001b[0;32mIn [42]\u001b[0m, in \u001b[0;36m<cell line: 2>\u001b[0;34m()\u001b[0m\n\u001b[1;32m      1\u001b[0m \u001b[38;5;66;03m# вивести останні 2 рядки\u001b[39;00m\n\u001b[0;32m----> 2\u001b[0m \u001b[43mtitanic\u001b[49m\u001b[38;5;241m.\u001b[39mtail(\u001b[38;5;241m2\u001b[39m)\n",
            "\u001b[0;31mNameError\u001b[0m: name 'titanic' is not defined"
          ],
          "output_type": "error"
        }
      ],
      "id": "otherwise-jefferson"
    },
    {
      "cell_type": "code",
      "source": "# отримати імена колонок\ncol_names = titanic.columns\nprint(col_names)",
      "metadata": {
        "hidden": true,
        "trusted": true
      },
      "execution_count": 43,
      "outputs": [
        {
          "ename": "<class 'NameError'>",
          "evalue": "name 'titanic' is not defined",
          "traceback": [
            "\u001b[0;31m---------------------------------------------------------------------------\u001b[0m",
            "\u001b[0;31mNameError\u001b[0m                                 Traceback (most recent call last)",
            "Input \u001b[0;32mIn [43]\u001b[0m, in \u001b[0;36m<cell line: 2>\u001b[0;34m()\u001b[0m\n\u001b[1;32m      1\u001b[0m \u001b[38;5;66;03m# отримати імена колонок\u001b[39;00m\n\u001b[0;32m----> 2\u001b[0m col_names \u001b[38;5;241m=\u001b[39m \u001b[43mtitanic\u001b[49m\u001b[38;5;241m.\u001b[39mcolumns\n\u001b[1;32m      3\u001b[0m \u001b[38;5;28mprint\u001b[39m(col_names)\n",
            "\u001b[0;31mNameError\u001b[0m: name 'titanic' is not defined"
          ],
          "output_type": "error"
        }
      ],
      "id": "corporate-frame"
    },
    {
      "cell_type": "code",
      "source": "# вивести загальну статистику датасету - числові поля\ntitanic.describe()",
      "metadata": {
        "hidden": true,
        "trusted": true
      },
      "execution_count": 44,
      "outputs": [
        {
          "ename": "<class 'NameError'>",
          "evalue": "name 'titanic' is not defined",
          "traceback": [
            "\u001b[0;31m---------------------------------------------------------------------------\u001b[0m",
            "\u001b[0;31mNameError\u001b[0m                                 Traceback (most recent call last)",
            "Input \u001b[0;32mIn [44]\u001b[0m, in \u001b[0;36m<cell line: 2>\u001b[0;34m()\u001b[0m\n\u001b[1;32m      1\u001b[0m \u001b[38;5;66;03m# вивести загальну статистику датасету - числові поля\u001b[39;00m\n\u001b[0;32m----> 2\u001b[0m \u001b[43mtitanic\u001b[49m\u001b[38;5;241m.\u001b[39mdescribe()\n",
            "\u001b[0;31mNameError\u001b[0m: name 'titanic' is not defined"
          ],
          "output_type": "error"
        }
      ],
      "id": "innovative-refrigerator"
    },
    {
      "cell_type": "code",
      "source": "# вивести статитсику текстового поля `Sex` \ntitanic['Sex'].describe()",
      "metadata": {
        "hidden": true,
        "trusted": true
      },
      "execution_count": 45,
      "outputs": [
        {
          "ename": "<class 'NameError'>",
          "evalue": "name 'titanic' is not defined",
          "traceback": [
            "\u001b[0;31m---------------------------------------------------------------------------\u001b[0m",
            "\u001b[0;31mNameError\u001b[0m                                 Traceback (most recent call last)",
            "Input \u001b[0;32mIn [45]\u001b[0m, in \u001b[0;36m<cell line: 2>\u001b[0;34m()\u001b[0m\n\u001b[1;32m      1\u001b[0m \u001b[38;5;66;03m# вивести статитсику текстового поля `Sex` \u001b[39;00m\n\u001b[0;32m----> 2\u001b[0m \u001b[43mtitanic\u001b[49m[\u001b[38;5;124m'\u001b[39m\u001b[38;5;124mSex\u001b[39m\u001b[38;5;124m'\u001b[39m]\u001b[38;5;241m.\u001b[39mdescribe()\n",
            "\u001b[0;31mNameError\u001b[0m: name 'titanic' is not defined"
          ],
          "output_type": "error"
        }
      ],
      "id": "thrown-mixture"
    },
    {
      "cell_type": "code",
      "source": "# перевірити тип колонки датасету\ntype(titanic['Age'])",
      "metadata": {
        "hidden": true,
        "trusted": true
      },
      "execution_count": 46,
      "outputs": [
        {
          "ename": "<class 'NameError'>",
          "evalue": "name 'titanic' is not defined",
          "traceback": [
            "\u001b[0;31m---------------------------------------------------------------------------\u001b[0m",
            "\u001b[0;31mNameError\u001b[0m                                 Traceback (most recent call last)",
            "Input \u001b[0;32mIn [46]\u001b[0m, in \u001b[0;36m<cell line: 2>\u001b[0;34m()\u001b[0m\n\u001b[1;32m      1\u001b[0m \u001b[38;5;66;03m# перевірити тип колонки датасету\u001b[39;00m\n\u001b[0;32m----> 2\u001b[0m \u001b[38;5;28mtype\u001b[39m(\u001b[43mtitanic\u001b[49m[\u001b[38;5;124m'\u001b[39m\u001b[38;5;124mAge\u001b[39m\u001b[38;5;124m'\u001b[39m])\n",
            "\u001b[0;31mNameError\u001b[0m: name 'titanic' is not defined"
          ],
          "output_type": "error"
        }
      ],
      "id": "exempt-restoration"
    },
    {
      "cell_type": "code",
      "source": "# вивести перші 10 рядків деяких колонок\ncols = [\"Name\", \"Age\", \"Sex\"]\ntitanic[cols].head(10)",
      "metadata": {
        "hidden": true,
        "trusted": true
      },
      "execution_count": 47,
      "outputs": [
        {
          "ename": "<class 'NameError'>",
          "evalue": "name 'titanic' is not defined",
          "traceback": [
            "\u001b[0;31m---------------------------------------------------------------------------\u001b[0m",
            "\u001b[0;31mNameError\u001b[0m                                 Traceback (most recent call last)",
            "Input \u001b[0;32mIn [47]\u001b[0m, in \u001b[0;36m<cell line: 3>\u001b[0;34m()\u001b[0m\n\u001b[1;32m      1\u001b[0m \u001b[38;5;66;03m# вивести перші 10 рядків деяких колонок\u001b[39;00m\n\u001b[1;32m      2\u001b[0m cols \u001b[38;5;241m=\u001b[39m [\u001b[38;5;124m\"\u001b[39m\u001b[38;5;124mName\u001b[39m\u001b[38;5;124m\"\u001b[39m, \u001b[38;5;124m\"\u001b[39m\u001b[38;5;124mAge\u001b[39m\u001b[38;5;124m\"\u001b[39m, \u001b[38;5;124m\"\u001b[39m\u001b[38;5;124mSex\u001b[39m\u001b[38;5;124m\"\u001b[39m]\n\u001b[0;32m----> 3\u001b[0m \u001b[43mtitanic\u001b[49m[cols]\u001b[38;5;241m.\u001b[39mhead(\u001b[38;5;241m10\u001b[39m)\n",
            "\u001b[0;31mNameError\u001b[0m: name 'titanic' is not defined"
          ],
          "output_type": "error"
        }
      ],
      "id": "catholic-number"
    },
    {
      "cell_type": "code",
      "source": "# вивести рядки з 100 по 110\ntitanic[100:110]",
      "metadata": {
        "hidden": true,
        "trusted": true
      },
      "execution_count": 48,
      "outputs": [
        {
          "ename": "<class 'NameError'>",
          "evalue": "name 'titanic' is not defined",
          "traceback": [
            "\u001b[0;31m---------------------------------------------------------------------------\u001b[0m",
            "\u001b[0;31mNameError\u001b[0m                                 Traceback (most recent call last)",
            "Input \u001b[0;32mIn [48]\u001b[0m, in \u001b[0;36m<cell line: 2>\u001b[0;34m()\u001b[0m\n\u001b[1;32m      1\u001b[0m \u001b[38;5;66;03m# вивести рядки з 100 по 110\u001b[39;00m\n\u001b[0;32m----> 2\u001b[0m \u001b[43mtitanic\u001b[49m[\u001b[38;5;241m100\u001b[39m:\u001b[38;5;241m110\u001b[39m]\n",
            "\u001b[0;31mNameError\u001b[0m: name 'titanic' is not defined"
          ],
          "output_type": "error"
        }
      ],
      "id": "automotive-hammer"
    },
    {
      "cell_type": "code",
      "source": "# вивести тільки чоловіків\ncond = titanic[\"Sex\"] == \"male\"\ntitanic[cond]",
      "metadata": {
        "hidden": true,
        "trusted": true
      },
      "execution_count": 49,
      "outputs": [
        {
          "ename": "<class 'NameError'>",
          "evalue": "name 'titanic' is not defined",
          "traceback": [
            "\u001b[0;31m---------------------------------------------------------------------------\u001b[0m",
            "\u001b[0;31mNameError\u001b[0m                                 Traceback (most recent call last)",
            "Input \u001b[0;32mIn [49]\u001b[0m, in \u001b[0;36m<cell line: 2>\u001b[0;34m()\u001b[0m\n\u001b[1;32m      1\u001b[0m \u001b[38;5;66;03m# вивести тільки чоловіків\u001b[39;00m\n\u001b[0;32m----> 2\u001b[0m cond \u001b[38;5;241m=\u001b[39m \u001b[43mtitanic\u001b[49m[\u001b[38;5;124m\"\u001b[39m\u001b[38;5;124mSex\u001b[39m\u001b[38;5;124m\"\u001b[39m] \u001b[38;5;241m==\u001b[39m \u001b[38;5;124m\"\u001b[39m\u001b[38;5;124mmale\u001b[39m\u001b[38;5;124m\"\u001b[39m\n\u001b[1;32m      3\u001b[0m titanic[cond]\n",
            "\u001b[0;31mNameError\u001b[0m: name 'titanic' is not defined"
          ],
          "output_type": "error"
        }
      ],
      "id": "professional-bernard"
    },
    {
      "cell_type": "code",
      "source": "# вивести рядки в яких пропущено значення поля `Age`\ncond = titanic['Age'].isna()\ntitanic[cond].head(3)",
      "metadata": {
        "hidden": true,
        "trusted": true
      },
      "execution_count": 50,
      "outputs": [
        {
          "ename": "<class 'NameError'>",
          "evalue": "name 'titanic' is not defined",
          "traceback": [
            "\u001b[0;31m---------------------------------------------------------------------------\u001b[0m",
            "\u001b[0;31mNameError\u001b[0m                                 Traceback (most recent call last)",
            "Input \u001b[0;32mIn [50]\u001b[0m, in \u001b[0;36m<cell line: 2>\u001b[0;34m()\u001b[0m\n\u001b[1;32m      1\u001b[0m \u001b[38;5;66;03m# вивести рядки в яких пропущено значення поля `Age`\u001b[39;00m\n\u001b[0;32m----> 2\u001b[0m cond \u001b[38;5;241m=\u001b[39m \u001b[43mtitanic\u001b[49m[\u001b[38;5;124m'\u001b[39m\u001b[38;5;124mAge\u001b[39m\u001b[38;5;124m'\u001b[39m]\u001b[38;5;241m.\u001b[39misna()\n\u001b[1;32m      3\u001b[0m titanic[cond]\u001b[38;5;241m.\u001b[39mhead(\u001b[38;5;241m3\u001b[39m)\n",
            "\u001b[0;31mNameError\u001b[0m: name 'titanic' is not defined"
          ],
          "output_type": "error"
        }
      ],
      "id": "recorded-animal"
    },
    {
      "cell_type": "code",
      "source": "# вивести рядки з пасажирами вік яких з 30 до 50 років\ncond = titanic['Age'].between(30, 50)\ntitanic[cond]",
      "metadata": {
        "hidden": true,
        "trusted": true
      },
      "execution_count": 51,
      "outputs": [
        {
          "ename": "<class 'NameError'>",
          "evalue": "name 'titanic' is not defined",
          "traceback": [
            "\u001b[0;31m---------------------------------------------------------------------------\u001b[0m",
            "\u001b[0;31mNameError\u001b[0m                                 Traceback (most recent call last)",
            "Input \u001b[0;32mIn [51]\u001b[0m, in \u001b[0;36m<cell line: 2>\u001b[0;34m()\u001b[0m\n\u001b[1;32m      1\u001b[0m \u001b[38;5;66;03m# вивести рядки з пасажирами вік яких з 30 до 50 років\u001b[39;00m\n\u001b[0;32m----> 2\u001b[0m cond \u001b[38;5;241m=\u001b[39m \u001b[43mtitanic\u001b[49m[\u001b[38;5;124m'\u001b[39m\u001b[38;5;124mAge\u001b[39m\u001b[38;5;124m'\u001b[39m]\u001b[38;5;241m.\u001b[39mbetween(\u001b[38;5;241m30\u001b[39m, \u001b[38;5;241m50\u001b[39m)\n\u001b[1;32m      3\u001b[0m titanic[cond]\n",
            "\u001b[0;31mNameError\u001b[0m: name 'titanic' is not defined"
          ],
          "output_type": "error"
        }
      ],
      "id": "bbddbc6a"
    },
    {
      "cell_type": "markdown",
      "source": "### ЗАВДАННЯ",
      "metadata": {
        "heading_collapsed": true,
        "hidden": true
      },
      "id": "be7b0e62"
    },
    {
      "cell_type": "code",
      "source": "# ЗАВДАННЯ 2.1: вивести характеристики датасету `titanic`\n...",
      "metadata": {
        "hidden": true
      },
      "execution_count": null,
      "outputs": [],
      "id": "d369c6d2"
    },
    {
      "cell_type": "code",
      "source": "# ЗАВДАННЯ 2.2: вивести статистичні параметри полів `Age` та `Fare` датасету `titanic`\n...",
      "metadata": {
        "hidden": true
      },
      "execution_count": null,
      "outputs": [],
      "id": "530c3274"
    },
    {
      "cell_type": "code",
      "source": "# ЗАВДАННЯ 2.3: пірахувати кількість записів в яких заповнені усі показчики\n...",
      "metadata": {
        "hidden": true
      },
      "execution_count": null,
      "outputs": [],
      "id": "53e70e13"
    },
    {
      "cell_type": "code",
      "source": "# ЗАВДАННЯ 2.4: пірахувати кількість виживших (survived=1) пасажирів жиночої статі (Sex=`female`)\n...",
      "metadata": {
        "hidden": true
      },
      "execution_count": null,
      "outputs": [],
      "id": "d0eb61fe"
    },
    {
      "cell_type": "code",
      "source": "",
      "metadata": {
        "hidden": true
      },
      "execution_count": null,
      "outputs": [],
      "id": "46f68e26"
    },
    {
      "cell_type": "markdown",
      "source": "## 3. Перетворення датафреймів\n\n__Перетворення__ - це сукупність операцій та методів для зміни структури та вмісту датафрейму та окремих його елементів",
      "metadata": {
        "heading_collapsed": true
      },
      "id": "63d7216b"
    },
    {
      "cell_type": "markdown",
      "source": "### ПРИКЛАДИ",
      "metadata": {
        "heading_collapsed": true,
        "hidden": true
      },
      "id": "b3e6674c"
    },
    {
      "cell_type": "code",
      "source": "d = {\n    \"ім'я\"    : [\"Петя\", \"Вася\", \"Галя\"],\n    \"вік\"     : [22, 200 , 21],\n    \"рейтинг\" : [\"10\", \"3\", \"2\"]\n}\n\ndf = pd.DataFrame(d)\ndf",
      "metadata": {
        "code_folding": [],
        "hidden": true,
        "trusted": true
      },
      "execution_count": 52,
      "outputs": [
        {
          "execution_count": 52,
          "output_type": "execute_result",
          "data": {
            "text/plain": "   ім'я  вік рейтинг\n0  Петя   22      10\n1  Вася  200       3\n2  Галя   21       2",
            "text/html": "<div>\n<style scoped>\n    .dataframe tbody tr th:only-of-type {\n        vertical-align: middle;\n    }\n\n    .dataframe tbody tr th {\n        vertical-align: top;\n    }\n\n    .dataframe thead th {\n        text-align: right;\n    }\n</style>\n<table border=\"1\" class=\"dataframe\">\n  <thead>\n    <tr style=\"text-align: right;\">\n      <th></th>\n      <th>ім'я</th>\n      <th>вік</th>\n      <th>рейтинг</th>\n    </tr>\n  </thead>\n  <tbody>\n    <tr>\n      <th>0</th>\n      <td>Петя</td>\n      <td>22</td>\n      <td>10</td>\n    </tr>\n    <tr>\n      <th>1</th>\n      <td>Вася</td>\n      <td>200</td>\n      <td>3</td>\n    </tr>\n    <tr>\n      <th>2</th>\n      <td>Галя</td>\n      <td>21</td>\n      <td>2</td>\n    </tr>\n  </tbody>\n</table>\n</div>"
          },
          "metadata": {}
        }
      ],
      "id": "408c6855"
    },
    {
      "cell_type": "code",
      "source": "# типи колонок та елементів в колонці\nprint(df[\"рейтинг\"].dtype)\nprint(type(df['рейтинг']))",
      "metadata": {
        "hidden": true,
        "trusted": true
      },
      "execution_count": 53,
      "outputs": [
        {
          "name": "stdout",
          "text": "object\n<class 'pandas.core.series.Series'>\n",
          "output_type": "stream"
        }
      ],
      "id": "a2e95984"
    },
    {
      "cell_type": "code",
      "source": "# Перетворити тип колонки (показчика) 'рейтинг' в ціле числове\ndf['рейтинг'] = df['рейтинг'].astype(\"int8\")\nprint(df[\"рейтинг\"].dtype)",
      "metadata": {
        "hidden": true
      },
      "execution_count": null,
      "outputs": [],
      "id": "60d606fc"
    },
    {
      "cell_type": "code",
      "source": "# додати колонку \"адреса\"\ndf[\"адреса\"] = [\"Київ\", \"Бровари\", \"Фастів\"]\ndf",
      "metadata": {
        "hidden": true
      },
      "execution_count": null,
      "outputs": [],
      "id": "ee40f2a3"
    },
    {
      "cell_type": "code",
      "source": "#  збільшити значення \"рейтинг\" на 3\ndf['рейтинг'] = df['рейтинг'] + 3\ndf",
      "metadata": {
        "hidden": true
      },
      "execution_count": null,
      "outputs": [],
      "id": "5816731f"
    },
    {
      "cell_type": "code",
      "source": "df",
      "metadata": {
        "hidden": true
      },
      "execution_count": null,
      "outputs": [],
      "id": "79085f02"
    },
    {
      "cell_type": "code",
      "source": "# виправити значення параметру 'вік' для імені 'Вася'\ndf.loc[1, \"вік\"] = 20\ndf",
      "metadata": {
        "hidden": true
      },
      "execution_count": null,
      "outputs": [],
      "id": "8cf3fc5e"
    },
    {
      "cell_type": "code",
      "source": "# видалити колонку `вік'\ndf.drop(columns='вік', inplace=True)\ndf",
      "metadata": {
        "hidden": true
      },
      "execution_count": null,
      "outputs": [],
      "id": "872910d8"
    },
    {
      "cell_type": "code",
      "source": "# вивести 5 перших рядків датафрейму\ntitanic.head(5)",
      "metadata": {
        "hidden": true
      },
      "execution_count": null,
      "outputs": [],
      "id": "26687e7f"
    },
    {
      "cell_type": "code",
      "source": "# вивести 3 випадкових рядки датафрейму\ntitanic.sample(3)",
      "metadata": {
        "hidden": true
      },
      "execution_count": null,
      "outputs": [],
      "id": "919c6dc5"
    },
    {
      "cell_type": "code",
      "source": "# відсортувати dataframe `titanic` за віком пасажиров\ntitanic.sort_values('Age')",
      "metadata": {
        "hidden": true
      },
      "execution_count": null,
      "outputs": [],
      "id": "0adbd146"
    },
    {
      "cell_type": "code",
      "source": "# перейменувати значення в `Embarked` стовпчику:\n# С - Cherbourg\n# Q - Queenstown\n# S - Southampton\ntitanic['Embarked'].replace({\"C\": \"Cherbourg\", \"Q\": \"Queenstown\", \"S\": \"Southampton\"},\n                           inplace=True)\ntitanic",
      "metadata": {
        "hidden": true
      },
      "execution_count": null,
      "outputs": [],
      "id": "e27563a8"
    },
    {
      "cell_type": "code",
      "source": "# підрахувати кількість пасажирів 1-го класу (Pclass=1)\ncond = titanic['Pclass'] == 1\nkol_pass = titanic[cond]['PassengerId'].count()\nkol_pass",
      "metadata": {
        "hidden": true
      },
      "execution_count": null,
      "outputs": [],
      "id": "b4f6b334"
    },
    {
      "cell_type": "code",
      "source": "# замінити відсутні номери кают на ''\ntitanic.fillna({\"Cabin\": \"***\"}, inplace=True)\ntitanic.head(3)",
      "metadata": {
        "hidden": true
      },
      "execution_count": null,
      "outputs": [],
      "id": "565f0062"
    },
    {
      "cell_type": "code",
      "source": "# видалити рядки в яких є відсутні значення \ntitanic.dropna(axis=0, how='any', inplace=True)\ntitanic.shape",
      "metadata": {
        "hidden": true
      },
      "execution_count": null,
      "outputs": [],
      "id": "e17482a6"
    },
    {
      "cell_type": "markdown",
      "source": "### ЗАВДАННЯ",
      "metadata": {
        "heading_collapsed": true,
        "hidden": true
      },
      "id": "f9c8a288"
    },
    {
      "cell_type": "code",
      "source": "# ЗАВДАННЯ 3.1: створити датафрейм з словника d\nd = {\n    \"ім'я\"    : [\"Петя\", \"Вася\", \"Галя\"],\n    \"вік\"     : [22, 200 , 21],\n    \"рейтинг\" : [\"10\", \"3\", \"2\"]\n}\ndf = ...",
      "metadata": {
        "hidden": true
      },
      "execution_count": null,
      "outputs": [],
      "id": "346419c3"
    },
    {
      "cell_type": "code",
      "source": "# ЗАВДАННЯ 3.2: додати до `df` стовбчик з показчиком \n# `рік завершення школи` = [2018, 2020, 200]\n...\nprint(df)",
      "metadata": {
        "hidden": true
      },
      "execution_count": null,
      "outputs": [],
      "id": "968d2cdc"
    },
    {
      "cell_type": "code",
      "source": "# ЗАВДАННЯ 3.3: виправити 'рік завершення школи' з 200 на 2020\n...\nprint(df)",
      "metadata": {
        "hidden": true
      },
      "execution_count": null,
      "outputs": [],
      "id": "5651ea12"
    },
    {
      "cell_type": "code",
      "source": "# завантаження датасету `titanic` (https://ansmirnov.ru/kaggle-titanic-dataset/)\nurl = \"https://raw.githubusercontent.com/datasciencedojo/datasets/master/titanic.csv\"\ntitanic = pd.read_csv(url)",
      "metadata": {
        "hidden": true
      },
      "execution_count": null,
      "outputs": [],
      "id": "c1191231"
    },
    {
      "cell_type": "code",
      "source": "# ЗАВДАННЯ 3.4: вивести з датасету `titanic` останні 10 записів \n...",
      "metadata": {
        "hidden": true
      },
      "execution_count": null,
      "outputs": [],
      "id": "a206f3c1"
    },
    {
      "cell_type": "code",
      "source": "# ЗАВДАННЯ 3.5: вибрати з датасету `titanic` рядки з пасажирами чоловічої статі віком \n# від 20 до 30 років, які подорожували 2 класом\n...",
      "metadata": {
        "hidden": true
      },
      "execution_count": null,
      "outputs": [],
      "id": "974e4300"
    },
    {
      "cell_type": "code",
      "source": "# ЗАВДАННЯ 3.6: видалити з датасету `titanic` рядки з пасажирами у яких відсутня\n# вартість (fare) квітка\ndf = ...\ndf",
      "metadata": {
        "hidden": true
      },
      "execution_count": null,
      "outputs": [],
      "id": "44126572"
    },
    {
      "cell_type": "code",
      "source": "# ЗАВДАННЯ 3.7: підрахувати середню вартість квитка у каютах 1-го класу\navg_price = ...\nprint(avg_price)",
      "metadata": {
        "hidden": true
      },
      "execution_count": null,
      "outputs": [],
      "id": "b1614e3e"
    },
    {
      "cell_type": "markdown",
      "source": "## 4. Агрегація датафреймів\n\n__Агрегація__ - це функції отримання агрегованих даних шляхом групування об'єктів датафрейма ",
      "metadata": {
        "heading_collapsed": true
      },
      "id": "9ef297e7"
    },
    {
      "cell_type": "markdown",
      "source": "### ПРИКЛАДИ",
      "metadata": {
        "heading_collapsed": true,
        "hidden": true
      },
      "id": "cb9bf24b"
    },
    {
      "cell_type": "code",
      "source": "titanic.head(3)",
      "metadata": {
        "hidden": true
      },
      "execution_count": null,
      "outputs": [],
      "id": "be63d27c"
    },
    {
      "cell_type": "code",
      "source": "# підрахувати середній вік пасажирів по класам кают\ngroup_by_class = titanic.groupby([\"Pclass\"])\navg_age = group_by_class[\"Age\"].mean()\nprint(avg_age)",
      "metadata": {
        "hidden": true
      },
      "execution_count": null,
      "outputs": [],
      "id": "6d24da8f"
    },
    {
      "cell_type": "code",
      "source": "# підрахувати кількість чоловіків та жінок по класам кают\nman_woman_count = titanic.groupby([\"Pclass\", \"Sex\"])[\"Sex\"].count()\nman_woman_count",
      "metadata": {
        "hidden": true,
        "scrolled": true
      },
      "execution_count": null,
      "outputs": [],
      "id": "5ab45447"
    },
    {
      "cell_type": "code",
      "source": "# створити таблицю в якій підраховано середню вартість білетів (Fare) в залежності\n# від місця посадки (Embarked) по класам кают\ntickets_cost = titanic.pivot_table(values=\"Fare\", index=\"Pclass\", columns=\"Embarked\",\n                   aggfunc=np.mean)\ntickets_cost",
      "metadata": {
        "hidden": true,
        "scrolled": true
      },
      "execution_count": null,
      "outputs": [],
      "id": "519fd08a"
    },
    {
      "cell_type": "markdown",
      "source": "### ЗАВДАННЯ",
      "metadata": {
        "heading_collapsed": true,
        "hidden": true
      },
      "id": "1953afb7"
    },
    {
      "cell_type": "code",
      "source": "# ЗАВДАННЯ 4.1: отримати відомості про максимальний вік жінок та чоловіків\nmax_age = ...\nprint(max_age)",
      "metadata": {
        "hidden": true
      },
      "execution_count": null,
      "outputs": [],
      "id": "a0161713"
    },
    {
      "cell_type": "markdown",
      "source": "___ЗАВДАННЯ 4.2___\n\nна основі даних з `titanic` побудувати таблицю наступного вигляду:\n\nPclass  |Male  | Female\n--------|------|-------\n1  | ... | ...\n2  | ... | ...\n3  | ... | ...\n\nде замість `...` повинно бути кількість виживших (Survived) чоловіків та жінок відповідно",
      "metadata": {
        "hidden": true
      },
      "id": "f7551432"
    },
    {
      "cell_type": "code",
      "source": "surv_table = ...\nsurv_table",
      "metadata": {
        "hidden": true
      },
      "execution_count": null,
      "outputs": [],
      "id": "5dea747e"
    }
  ]
}